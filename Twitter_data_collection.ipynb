{
 "cells": [
  {
   "cell_type": "code",
   "execution_count": null,
   "metadata": {},
   "outputs": [],
   "source": [
    "#Import the necessary methods from tweepy library\n",
    "from tweepy.streaming import StreamListener\n",
    "from tweepy import OAuthHandler\n",
    "from tweepy import Stream\n",
    "\n",
    "\n",
    "\n",
    "# Enter Twitter API Keys\n",
    "access_token = \"1270669465840214017-UiL9S9rvzLvxL6qCKMX5zHF9egPSfb\"\n",
    "access_token_secret = \"DNZwzLNGCIw1l1m0W7whXT72572zq8VsjUpzPZpf6wOPh\"\n",
    "consumer_key = \"SBjB517jCMyDpQA2DDeUdInOT\"\n",
    "consumer_secret = \"Wbssih1qG4pIEZJoU8CdTArRoieolyUVzu6MgE8v1AmKy4bGVb\"\n",
    "\n",
    "\n",
    "tweets_file = open(\"Tweets.txt\", \"a+\")\n",
    "\n",
    "\n",
    "# Create the class that will handle the tweet stream\n",
    "class StdOutListener(StreamListener):\n",
    "      \n",
    "    def on_data(self, data):\n",
    "            tweets_file.write(data)\n",
    "            tweets_file.write(\"\\n\")\n",
    "            return True\n",
    "        \n",
    "\n",
    "    def on_error(self, status):\n",
    "        print(status)\n",
    "\n",
    "\n",
    "if __name__ == '__main__':  \n",
    "# Handle Twitter authetification and the connection to Twitter Streaming API\n",
    "    l = StdOutListener()\n",
    "    auth = OAuthHandler(consumer_key, consumer_secret)\n",
    "    auth.set_access_token(access_token, access_token_secret)\n",
    "    stream = Stream(auth, l)\n",
    "    tracklist = [\"road blockage\", \"traffic\", \"jam\", \"congestion\"]\n",
    "    stream.filter(track=tracklist, languages=['en'])\n"
   ]
  },
  {
   "cell_type": "code",
   "execution_count": null,
   "metadata": {},
   "outputs": [],
   "source": []
  },
  {
   "cell_type": "code",
   "execution_count": null,
   "metadata": {},
   "outputs": [],
   "source": []
  },
  {
   "cell_type": "code",
   "execution_count": null,
   "metadata": {},
   "outputs": [],
   "source": []
  },
  {
   "cell_type": "code",
   "execution_count": null,
   "metadata": {},
   "outputs": [],
   "source": []
  },
  {
   "cell_type": "code",
   "execution_count": null,
   "metadata": {},
   "outputs": [],
   "source": []
  },
  {
   "cell_type": "code",
   "execution_count": null,
   "metadata": {},
   "outputs": [],
   "source": []
  },
  {
   "cell_type": "code",
   "execution_count": null,
   "metadata": {},
   "outputs": [],
   "source": []
  }
 ],
 "metadata": {
  "kernelspec": {
   "display_name": "Python 3",
   "language": "python",
   "name": "python3"
  },
  "language_info": {
   "codemirror_mode": {
    "name": "ipython",
    "version": 3
   },
   "file_extension": ".py",
   "mimetype": "text/x-python",
   "name": "python",
   "nbconvert_exporter": "python",
   "pygments_lexer": "ipython3",
   "version": "3.7.3"
  }
 },
 "nbformat": 4,
 "nbformat_minor": 2
}
