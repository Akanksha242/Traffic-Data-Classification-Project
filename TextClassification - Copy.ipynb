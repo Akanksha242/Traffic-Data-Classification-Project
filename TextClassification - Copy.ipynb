{
 "cells": [
  {
   "cell_type": "markdown",
   "metadata": {
    "colab_type": "text",
    "id": "jrXDixbpNtuO"
   },
   "source": [
    "Task : Classification of tweets into Traffic(1) class or Non-traffic(0) class\n",
    "\n",
    "Text Classification is an automated process of classification of text into \n",
    "predefined categories.\n",
    "\n",
    "Now lets realize this with a supervised ML model to classify text\n",
    "\n",
    "\n",
    "The data set used here can be downloaded from - \n",
    "\n",
    "https://data.mendeley.com/datasets/c3xvj5snvv/1\n",
    "\n",
    "\n"
   ]
  },
  {
   "cell_type": "code",
   "execution_count": 1,
   "metadata": {
    "colab": {},
    "colab_type": "code",
    "id": "68379u3JFLvg"
   },
   "outputs": [],
   "source": [
    "# STEP 1 : Import desired libraries\n",
    "import pandas as pd\n",
    "import numpy as np\n",
    "from nltk.tokenize import word_tokenize\n",
    "from nltk import pos_tag\n",
    "from nltk.corpus import stopwords\n",
    "from nltk.stem import WordNetLemmatizer\n",
    "from sklearn.preprocessing import LabelEncoder\n",
    "from collections import defaultdict\n",
    "from nltk.corpus import wordnet as wn\n",
    "from sklearn.feature_extraction.text import TfidfVectorizer\n",
    "from sklearn import model_selection, naive_bayes, svm\n",
    "from sklearn.metrics import accuracy_score\n",
    "from sklearn import metrics\n",
    "\n"
   ]
  },
  {
   "cell_type": "code",
   "execution_count": 2,
   "metadata": {},
   "outputs": [
    {
     "name": "stdout",
     "output_type": "stream",
     "text": [
      "C:\\ProgramData\\Anaconda3\\python.exe\n"
     ]
    }
   ],
   "source": [
    "import sys\n",
    "print(sys.executable)"
   ]
  },
  {
   "cell_type": "code",
   "execution_count": 3,
   "metadata": {
    "colab": {},
    "colab_type": "code",
    "id": "dK8t8uQJFuBr",
    "scrolled": true
   },
   "outputs": [],
   "source": [
    "# STEP 2 : Read dataset\n",
    "# Read data into dataframes and define column names\n",
    "train_df = pd.read_csv('1_TrainingSet_2Class.csv',names=['label','user_id','text']);\n",
    "test_df = pd.read_csv('1_TestSet_2Class.csv',names=['label','user_id','text']);"
   ]
  },
  {
   "cell_type": "markdown",
   "metadata": {
    "colab_type": "text",
    "id": "XQBndKp2P9v5"
   },
   "source": [
    "STEP -3 : Prepare Train and Test Data sets\n",
    "\n",
    "The Corpus has two data sets, Training and Test\n",
    "\n",
    "The training data set will be used to fit the model and the predictions will be performed on the test data set.\n",
    "\n",
    "Learn more about training and test data here- https://towardsdatascience.com/train-validation-and-test-sets-72cb40cba9e7"
   ]
  },
  {
   "cell_type": "code",
   "execution_count": 4,
   "metadata": {
    "colab": {},
    "colab_type": "code",
    "id": "Ncoq5nTwGzUp"
   },
   "outputs": [],
   "source": [
    "# Define training and testing data(text and labels)\n",
    "train_x = train_df['text']; \n",
    "train_y = train_df['label'];\n",
    "\n",
    "test_x = test_df['text'];\n",
    "test_y = test_df['label'];"
   ]
  },
  {
   "cell_type": "code",
   "execution_count": 5,
   "metadata": {
    "colab": {
     "base_uri": "https://localhost:8080/",
     "height": 85
    },
    "colab_type": "code",
    "id": "ARvNabLTJeEE",
    "outputId": "8867d9e5-898c-43d1-8f9b-6c231978d8a2"
   },
   "outputs": [
    {
     "name": "stdout",
     "output_type": "stream",
     "text": [
      "Length of train data\n",
      "40879 40879\n",
      "Length of test data\n",
      "10221 10221\n"
     ]
    }
   ],
   "source": [
    "print(\"Length of train data\")\n",
    "print(len(train_x), len(train_y))\n",
    "\n",
    "print(\"Length of test data\")\n",
    "print(len(test_x), len(test_y))"
   ]
  },
  {
   "cell_type": "code",
   "execution_count": 6,
   "metadata": {},
   "outputs": [
    {
     "data": {
      "text/plain": [
       "<Figure size 640x480 with 1 Axes>"
      ]
     },
     "metadata": {},
     "output_type": "display_data"
    },
    {
     "data": {
      "text/plain": [
       "<Figure size 640x480 with 1 Axes>"
      ]
     },
     "metadata": {},
     "output_type": "display_data"
    }
   ],
   "source": [
    "import seaborn as sns\n",
    "import matplotlib.pyplot as plt\n",
    "sns.countplot(train_df['label'],label=\"label\")\n",
    "plt.show()\n",
    "sns.countplot(test_df['label'],label=\"label\")\n",
    "plt.show()"
   ]
  },
  {
   "cell_type": "code",
   "execution_count": 7,
   "metadata": {
    "scrolled": true
   },
   "outputs": [
    {
     "ename": "ModuleNotFoundError",
     "evalue": "No module named 'wordcloud'",
     "output_type": "error",
     "traceback": [
      "\u001b[1;31m---------------------------------------------------------------------------\u001b[0m",
      "\u001b[1;31mModuleNotFoundError\u001b[0m                       Traceback (most recent call last)",
      "\u001b[1;32m<ipython-input-7-6d8b95d56d33>\u001b[0m in \u001b[0;36m<module>\u001b[1;34m\u001b[0m\n\u001b[0;32m      1\u001b[0m \u001b[1;32mimport\u001b[0m \u001b[0mmatplotlib\u001b[0m\u001b[1;33m.\u001b[0m\u001b[0mpyplot\u001b[0m \u001b[1;32mas\u001b[0m \u001b[0mpPlot\u001b[0m\u001b[1;33m\u001b[0m\u001b[1;33m\u001b[0m\u001b[0m\n\u001b[1;32m----> 2\u001b[1;33m \u001b[1;32mfrom\u001b[0m \u001b[0mwordcloud\u001b[0m \u001b[1;32mimport\u001b[0m \u001b[0mWordCloud\u001b[0m\u001b[1;33m,\u001b[0m \u001b[0mSTOPWORDS\u001b[0m\u001b[1;33m\u001b[0m\u001b[1;33m\u001b[0m\u001b[0m\n\u001b[0m\u001b[0;32m      3\u001b[0m \u001b[1;32mimport\u001b[0m \u001b[0mnumpy\u001b[0m \u001b[1;32mas\u001b[0m \u001b[0mnpy\u001b[0m\u001b[1;33m\u001b[0m\u001b[1;33m\u001b[0m\u001b[0m\n\u001b[0;32m      4\u001b[0m \u001b[1;33m\u001b[0m\u001b[0m\n\u001b[0;32m      5\u001b[0m \u001b[0mtweets\u001b[0m \u001b[1;33m=\u001b[0m \u001b[0mtrain_df\u001b[0m\u001b[1;33m[\u001b[0m\u001b[0mtrain_df\u001b[0m\u001b[1;33m[\u001b[0m\u001b[1;34m'label'\u001b[0m\u001b[1;33m]\u001b[0m \u001b[1;33m==\u001b[0m \u001b[1;36m1\u001b[0m\u001b[1;33m]\u001b[0m\u001b[1;33m.\u001b[0m\u001b[0msample\u001b[0m\u001b[1;33m(\u001b[0m\u001b[0mn\u001b[0m\u001b[1;33m=\u001b[0m\u001b[1;36m2000\u001b[0m\u001b[1;33m)\u001b[0m\u001b[1;33m[\u001b[0m\u001b[1;34m'text'\u001b[0m\u001b[1;33m]\u001b[0m\u001b[1;33m.\u001b[0m\u001b[0mvalues\u001b[0m\u001b[1;33m\u001b[0m\u001b[1;33m\u001b[0m\u001b[0m\n",
      "\u001b[1;31mModuleNotFoundError\u001b[0m: No module named 'wordcloud'"
     ]
    }
   ],
   "source": [
    "import matplotlib.pyplot as pPlot\n",
    "from wordcloud import WordCloud, STOPWORDS\n",
    "import numpy as npy\n",
    "\n",
    "tweets = train_df[train_df['label'] == 1].sample(n=2000)['text'].values\n",
    "wc = WordCloud(background_color=\"black\", max_words=2000, stopwords=STOPWORDS)\n",
    "wc.generate(\" \".join(tweets))\n",
    "\n",
    "plt.figure(figsize=(10,5))\n",
    "plt.axis(\"off\")\n",
    "plt.title(\"Frequent words in traffic related tweets\", fontsize=20)\n",
    "plt.imshow(wc.recolor(colormap= 'viridis' , random_state=17), alpha=0.98)\n",
    "plt.show()"
   ]
  },
  {
   "cell_type": "markdown",
   "metadata": {
    "colab_type": "text",
    "id": "jBywHvQTQRCP"
   },
   "source": [
    "STEP -7: Word Vectorization\n",
    "\n",
    "\n",
    "It is a general process of turning a collection of text documents into numerical feature vectors.Their are many methods to convert text data to \n",
    "vectors which the model can understand but by far the most popular method is called TF-IDF. This is an acronym than stands for “Term Frequency — Inverse Document” Frequency which are the components of the resulting scores assigned to each word.\n",
    "Term Frequency: This summarizes how often a given word appears within a document.\n",
    "Inverse Document Frequency: This down scales words that appear a lot across documents\n",
    "\n",
    "TF-IDF are word frequency scores that try to highlight words that are more interesting, e.g. frequent in a document but not across documents.\n",
    "\n",
    "Learn more about TF-IDF here - https://www.youtube.com/watch?v=4vT4fzjkGCQ\n",
    "\n",
    "Learn more about TF-IDF vectorizer here - https://machinelearningmastery.com/prepare-text-data-machine-learning-scikit-learn/"
   ]
  },
  {
   "cell_type": "code",
   "execution_count": 6,
   "metadata": {
    "colab": {},
    "colab_type": "code",
    "id": "hWD_OrfdHXOJ"
   },
   "outputs": [],
   "source": [
    "#  Word Vectorization\n",
    "# Finally we will transform Train_X and Test_X to vectorized Train_X_Tfidf and Test_X_Tfidf\n",
    "# It will contain for each row a list of unique integer number and its associated importance as calculated by TF-IDF.\n",
    "Tfidf_vect = TfidfVectorizer(max_features=5000)\n",
    "Tfidf_vect.fit(train_x)\n",
    "Train_X_Tfidf = Tfidf_vect.transform(train_x)\n",
    "Test_X_Tfidf = Tfidf_vect.transform(test_x)"
   ]
  },
  {
   "cell_type": "code",
   "execution_count": 7,
   "metadata": {
    "colab": {
     "base_uri": "https://localhost:8080/",
     "height": 54
    },
    "colab_type": "code",
    "id": "9ArLArtCICMK",
    "outputId": "94da5360-80dd-4c69-9d84-298fa519e379"
   },
   "outputs": [
    {
     "name": "stdout",
     "output_type": "stream",
     "text": [
      "{'disabled': 1402, 'vehicle': 4712, 'on': 3200, 'westbound': 4840, 'highway': 2169, 'wb': 4810, 'at': 519, 'drive': 1475, 'use': 4685, 'caution': 897, 'when': 4853, 'traveling': 4553, 'through': 4459, 'this': 4442, 'area': 481, 'new': 3070, 'teacher': 4383, 'lunch': 2738, 'amp': 427, 'training': 4539, 'marker': 2791, 'and': 431, 'the': 4427, 'spot': 4181, 'in': 2331, 'our': 3245, 'uhaultrends': 4624, 'canadian': 851, 'destination': 1364, 'countdown': 1184, 'is': 2413, 'toronto': 4508, 'ontario': 3209, 'years': 4972, 'ago': 361, 'today': 4487, 'mlk': 2924, 'gave': 1957, 'his': 2179, 'historic': 2180, 'have': 2111, 'dream': 1467, 'speech': 4166, 'it': 2420, 'always': 413, 'hard': 2093, 'to': 4485, 'say': 3905, 'what': 4848, 'been': 640, 'your': 4985, 'favorite': 1746, 'memory': 2844, 'with': 4908, 'elizabeth': 1558, 'do': 1430, 'not': 3129, 'pay': 3331, 'north': 3120, 'korea': 2542, 'another': 444, 'single': 4077, 'america': 419, 'talking': 4366, 'selling': 3965, 'congrats': 1124, 'for': 1859, 'being': 651, 'enjoy': 1595, 'bags': 582, 'sign': 4064, 'up': 4650, 'active': 308, 'day': 1292, 'gt': 2055, 'mother': 2978, 'thank': 4422, 'you': 4983, 'love': 2722, 'president': 3502, 'obama': 3156, 'we': 4811, 're': 3642, 'sorry': 4144, 'hear': 2129, 'please': 3431, 'contact': 1140, 'local': 2690, 'workshop': 4936, 'looked': 2704, 'construction': 1136, 'both': 738, 'directions': 1397, 'from': 1909, 'nj': 3100, 'cr': 1200, 'east': 1515, 'of': 3168, 'cleared': 1014, 'incident': 2334, 'eline': 1557, 'queens': 3594, 'bound': 744, 'jamaica': 2433, 'center': 910, 'parsons': 3299, 'archer': 478, 'station': 4222, 'eastbound': 1516, 'all': 394, 'lanes': 2566, 'open': 3212, 'mm': 2925, 'running': 3861, 'pace': 3267, 'car': 863, 'operations': 3219, 'starting': 4215, 'near': 3052, 'line': 2657, 'queensboro': 3595, 'plaza': 3429, '74th': 247, 'street': 4269, 'broadway': 789, 'summit': 4309, 'train': 4538, 'stations': 4223, 'rd': 3640, 'between': 674, 'first': 1808, 'graham': 2026, 'st': 4198, 'blocked': 711, 'by': 829, 'fallen': 1718, 'pole': 3442, 'over': 3257, 'everyone': 1643, 'who': 4861, 'came': 842, 'before': 643, 'him': 2177, 'turned': 4600, 'after': 351, 'll': 2679, 'miss': 2913, 'be': 623, 'good': 2009, 'one': 3202, 'many': 2780, 'beautiful': 629, 'views': 4735, 'onewtc': 3204, 'repost': 3734, 'nyc': 3150, 'skyline': 4093, 'planned': 3413, 'broward': 797, 'beyond': 675, 'hallandale': 2073, 'beach': 624, 'blvd': 720, 'left': 2614, 'lane': 2565, 'last': 2571, 'key': 2509, 'proper': 3551, 'rv': 3871, 'storage': 4254, 'tips': 4479, 'here': 2153, 'rt': 3855, 'travel': 4551, 'slow': 4103, 'traffic': 4532, 'ring': 3802, 'road': 3814, 'around': 488, 'york': 4982, 'congestion': 1123, 'gardenstateparkway': 1950, 'nb': 3044, 'south': 4151, 'toll': 4490, 'exit': 1663, 'collision': 1066, 'update': 4652, 'sb': 3908, 'right': 3800, 'now': 3138, 'former': 1875, 'hs': 2243, 'head': 2121, 'coach': 1047, 'posting': 3470, 'record': 3668, 'are': 480, 'west': 4839, 'highrise': 2168, 'bridge': 777, 'due': 1490, 'an': 429, 'accident': 293, 'has': 2106, 'reached': 3644, 'chef': 954, '7line': 251, 'just': 2491, 'there': 4432, 'backup': 577, 'crash': 1203, '188th': 65, 'visited': 4749, 'cincinnati': 987, 'crane': 1202, 'proud': 3561, 'present': 3498, 'them': 4430, 'export': 1688, 'award': 563, 'they': 4435, 've': 4708, 'certainly': 918, 'city': 992, 'which': 4857, 'home': 2203, 'people': 3344, 'lost': 2714, 'its': 2423, 'water': 4800, 'supply': 4319, 'mp': 2998, 'past': 3319, 'sr': 4194, '15th': 51, 'more': 2969, 'proof': 3549, 'supporters': 4322, 'completely': 1102, 'resource': 3755, 'page': 3274, 'irma': 2412, 'information': 2359, 'safety': 3879, 'go': 1996, 'updated': 4653, 'closure': 1035, 'nj21': 3102, '35w': 147, 'debris': 1309, 'roadway': 3816, 'hennepin': 2148, 'avenue': 555, '21a': 85, 'boulevard': 743, 'find': 1796, 'out': 3248, 'about': 280, 'previous': 3510, 'winners': 4896, 'history': 2182, 'enter': 1600, 'was': 4792, 'feature': 1755, 'ubox': 4620, 'commercial': 1085, 'during': 1498, 'watch': 4797, 'again': 354, 'icymi': 2301, 'sunrise': 4313, '53am': 205, 'hooven': 2213, 'singles': 4078, 'bringing': 784, '3rd': 163, 'dead': 1299, 'trump': 4580, 'would': 4946, 'opened': 3213, 'bear': 626, 'hunters': 2256, 'so': 4122, 'can': 849, 'kill': 2519, 'place': 3404, 'where': 4854, 'were': 4837, 'once': 3201, 'safe': 3875, 'railroad': 3612, 'got': 2015, 'or': 3226, 'question': 3598, 'join': 2465, 'us': 4665, 'next': 3082, 'friday': 1904, '1pm': 77, 'et': 1627, 'survey': 4332, 'response': 3762, 'moss': 2975, 'park': 3294, '10pm': 26, '6am': 238, 'minor': 2907, 'delays': 1335, 'possible': 3466, 'depression': 1355, 'round': 3846, 'trip': 4567, 'nigga': 3090, 'i95': 2294, 'major': 2762, 'expressway': 1692, 'alexander': 389, 'hamilton': 2074, 'webster': 4821, 'alachua': 380, '48am': 184, 'baby': 572, 'girl': 1982, 'two': 4613, 'youth': 4988, 'semi': 3967, 'northeast': 3123, 'calgary': 835, 'northbound': 3122, 'mile': 2883, 'closed': 1030, 'quick': 3600, 'quiz': 3604, 'whose': 4863, 'kitchen': 2529, 'donated': 1444, 'national': 3032, 'museum': 3012, 'american': 420, 'washington': 4794, 'dc': 1296, 'take': 4359, 'peek': 3339, 'work': 4928, 'pro': 3523, 'fairfax': 1714, 'co': 1046, 'potential': 3472, '24pm': 98, 'half': 2071, 'hours': 2229, 'later': 2575, 'still': 4241, 'waiting': 4771, 'resolve': 3753, 'my': 3018, 'issue': 2417, 'whole': 4862, 'night': 3092, 'anyone': 453, 'recommend': 3667, 'network': 3067, 'easy': 1519, 'impact': 2319, 'world': 4938, 'but': 823, 'look': 2703, 'vr': 4765, '5line': 228, 'flatbush': 1822, 'brooklyn': 794, 'college': 1064, '75th': 248, 'roosevelt': 3840, 'island': 2414, 'want': 4783, 'able': 279, 'get': 1973, 'asap': 501, 'dm': 1428, 'details': 1366, 'into': 2396, 'attcareteam': 529, 'access': 292, 'clean': 1009, 'drinking': 1473, 'partnership': 3306, 'tonight': 4497, 'leave': 2607, 'stress': 4272, 'free': 1896, 'ready': 3649, 'great': 2034, 'sleep': 4097, 'turnpike': 4603, 'roadwork': 3817, 'pennsylvania': 3343, 'pa': 3266, 'affecting': 345, 'any': 451, 'shopping': 4040, 'bare': 601, 'feet': 1769, 'guy': 2064, 'makes': 2765, 'keith': 2502, 'kta': 2545, 'alert': 386, 'approaching': 470, 'frustration': 1916, 'order': 3228, 'happy': 2089, 'check': 949, 'basf': 609, 'future': 1935, 'innovation': 2369, 'platform': 3421, 'these': 4434, 'amazing': 415, 'students': 4288, 'explain': 1683, 'black': 698, 'space': 4157, 'time': 4475, 'under': 4632, 'minute': 2909, 'lasvegas': 2573, 'may': 2814, 'dropping': 1482, 'something': 4138, 'show': 4052, 'tvspot': 4607, 'expect': 1673, 'weekend': 4827, 'georgia': 1970, 'if': 2307, 'hit': 2183, 'problems': 3526, 'eclipse2017': 1524, 'also': 406, 'exports': 1689, 'fave': 1745, 'ruralresults': 3865, 'stories': 4257, 'county': 1190, 'fatal': 1742, 'miles': 2885, 'object': 3158, 'beltway': 660, 'wokvtraffic': 4915, 'injuries': 2365, 'hwy': 2265, 'reporting': 3732, 'heavy': 2136, 'avoid': 559, 'btwn': 806, 'mi': 2867, 'exit125': 1664, 'columbia': 1072, 'lline': 2680, '6th': 243, 'ave': 554, 'americas': 422, '14th': 48, 'union': 4637, 'advisory': 338, 'oak': 3152, 'tuesday': 4593, 'august': 536, 'via': 4723, 'clinton': 1026, 'disruption': 1418, 'palm': 3280, 'atlantic': 524, 'backed': 574, 'until': 4649, 'extension': 1697, 'properly': 3552, 'safetysaturday': 3880, 'air': 374, 'playing': 3426, 'while': 4858, 'then': 4431, 'interstate': 2393, 'deck': 1318, 'tunnel': 4597, 'river': 3808, 'troutdale': 4573, 'white': 4859, 'snow': 4120, 'showers': 4054, 'wet': 4846, 'slush': 4105, 'places': 3405, 'season': 3937, 'underway': 4634, 'constr': 1135, 'zero': 4994, 'private': 3522, 'sector': 3947, 'experience': 1676, 'says': 3907, 'stuff': 4292, 'how': 2234, 'things': 4437, 'thought': 4450, 'phone': 3368, 'text': 4419, 'im': 2313, 'email': 1568, 'app': 461, 'run': 3860, 'foodsafety': 1855, 'dinner': 1392, 'help': 2142, 'meat': 2830, 'poultry': 3475, 'til': 4472, '6pm': 242, '5th': 231, '56th': 215, 'signs': 4070, 'report': 3728, 'inc': 2333, 'investment': 2404, 'community': 1093, 'website': 4820, 'stock': 4246, 'states': 4220, 'working': 4932, 'together': 4488, 'green': 2037, 'recipe': 3664, 'complete': 1100, 'keystone': 2512, 'ramp': 3623, 'lt': 2733, 'mins': 2908, '9a': 268, 'broad': 787, 'queen': 3593, 'sugar': 4304, 'score': 3924, 'core': 1167, 'series': 3985, 'high': 2161, 'premiere': 3492, 'cttraffic': 1238, 'route': 3848, 'overpass': 3259, 'hartford': 2103, 'temporarily': 4404, 'serious': 3986, 'injury': 2366, 'utah': 4694, 'est': 1625, 'clearance': 1013, 'pm': 3438, 'mark': 2790, 'women': 4917, 'championship': 926, 'see': 3950, 'six': 4087, 'teams': 4388, 'will': 4874, 'floridas': 1837, 'nw': 3147, 'content': 1144, 'provided': 3563, 'waze': 4809, 'westminster': 4842, 'way': 4806, 'hand': 2077, 'clear': 1012, 'hurricaneirma': 2260, 'cuba': 1240, 'causing': 896, 'massive': 2804, 'flooding': 1832, 'along': 403, 'ne': 3051, 'coast': 1052, 'latest': 2576, 'thanks': 4424, 'spring': 4188, 'va': 4697, 'employees': 1575, 'showing': 4055, 'their': 4429, 'spirit': 4175, 'looks': 2706, 'like': 2645, 'contract': 1150, 'hate': 2109, 'tell': 4400, 'did': 1379, 'secret': 3944, 'ex': 1647, 'milwaukeecounty': 2897, 'leads': 2600, 'sends': 3975, 'psu': 3567, 'live': 2673, 'central': 911, 'pacific': 3268, 'basin': 612, 'texas': 4418, 'part': 3300, 'foot': 1857, 'dog': 1434, 'become': 633, 'sound': 4147, 'healthy': 2128, 'never': 3069, 'okc': 3192, 'penn': 3342, 'motorist': 2983, 'assist': 513, 'blocking': 712, 'inside': 2372, 'baf': 580, 'vancouver': 4704, 'trans': 4541, 'canada': 850, 'mountain': 2988, 'elsevierhacks': 1564, 'awesome': 569, 'southbound': 4152, 'maryland': 2801, 'state': 4218, 'no': 3110, 'child': 968, 'should': 4048, 'need': 3059, 'dirty': 1401, 'because': 632, 'drought': 1484, 'conflict': 1121, 'agree': 363, 'am': 414, 'legion': 2618, '20am': 80, 'arthur': 494, 'ravenel': 3636, 'junior': 2489, 'looking': 2705, 'npl': 3141, 'title': 4482, 'preview': 3509, 'gets': 1975, 'heights': 2137, 'wine': 4892, 'hour': 2228, 'getaway': 1974, 'country': 1189, 'reports': 3733, 'september': 3984, 'sw': 4342, 'wi': 4865, 'advanced': 331, 'materials': 2808, 'as': 500, 'important': 2323, 'china': 972, 'financial': 1795, 'miami': 2868, 'dade': 1260, 'int': 2384, 'airport': 377, 'reality': 3652, 'tv': 4605, 'couldn': 1181, 'even': 1635, 'away': 568, 'sea': 3933, 'stop': 4249, 'wood': 4922, '13th': 42, 'restriction': 3771, 'sam': 3887, 'houston': 2232, 'tollway': 4491, 'status': 4227, 'luck': 2735, 'tomorrow': 4496, 'ambassador': 417, 'final': 1790, 'person': 3355, 'education': 1537, 'lack': 2552, 'life': 2639, 'short': 4042, 'point': 3440, 'had': 2069, 'ideas': 2305, 'didn': 1380, 'make': 2764, 'myself': 3022, 'multi': 3008, 'performance': 3350, 'fallontonight': 1720, 'unconfirmed': 4631, 'marion': 2789, '01pm': 4, 'fl511': 1817, 'downtown': 1460, 'unfortunately': 4635, 'driver': 1477, 'fix': 1813, 'express_lane': 1691, 'gender': 1961, 'equal': 1612, 'science': 3922, 'better': 673, 'european': 1633, 'launch': 2580, 'elsgender17': 1565, 'off': 3169, '1st': 78, 'brand': 760, 'journal': 2475, 'inspired': 2376, 'manhattan': 2777, 'duval': 1500, 'aug': 535, '09pm': 19, 'eb': 1522, 'southern': 4154, '7th': 255, 'jackson': 2431, 'hts': 2244, 'four': 1885, 'hov': 2233, 'suspended': 4334, 'twitter': 4612, 'news': 3078, 'putin': 3583, 'me': 2823, 'btv': 804, 'entrance': 1604, 'vehicles': 4713, 'shoulder': 4049, 'hi': 2158, 'very': 4720, 'friend': 1905, 'sharing': 4018, 'each': 1503, 'other': 3242, 'soon': 4143, 'hey': 2157, 'truck': 4574, 'id': 2302, 'driving': 1479, 'plates': 3420, 'change': 928, 'founder': 1884, 'vision': 4747, 'end': 1580, 'roads': 3815, 'montreal': 2962, 'let': 2624, 'wish': 4905, 'birthday': 691, 'block': 709, 'market': 2792, 'rockingham': 3828, 'insurance': 2383, 'johns': 2463, 'pizza': 3399, 'gas': 1953, 'leak': 2602, 'btw': 805, 'ct': 1236, 'cromwell': 1223, 'ctr': 1237, 'dekalb': 1328, 'memorial': 2842, 'dr': 1462, 'back': 573, 'indian': 2351, 'crk': 1222, 'jersey': 2448, 'outer': 3252, 'mixing': 2922, 'bowl': 749, 'spokane': 4177, 'told': 4489, 'self': 3963, 'probably': 3524, 'offers': 3174, 'mline': 2923, '50th': 197, 'questions': 3599, 'concerns': 1107, 'forward': 1880, 'hearing': 2131, '27pm': 108, 'metairie': 2859, 'gardens': 1949, '39pm': 155, 'few': 1776, 'words': 4927, 'used': 4686, 'leading': 2599, 'legal': 2616, 'judge': 2482, 'garland': 1952, 'bright': 781, 'fair': 1712, 'hanover': 2083, '30am': 126, 'create': 1208, 'chemistry': 957, 'that': 4426, 'visit': 4748, 'booth': 733, 'importance': 2322, 'industry': 2355, 'expo': 1687, 'she': 4020, 'lived': 2674, 'her': 2151, 'real': 3650, 'post': 3468, 'miller': 2890, 'vt': 4767, 'delay': 1333, 'min': 2898, 'lns': 2684, 'rob': 3820, 'discusses': 1410, 'coaching': 1050, 'career': 868, 'military': 2887, 'coachandcoordinator': 1048, 'why': 4864, 'rent': 3716, 'office': 3175, 'norwalk': 3127, 'affected': 344, 'photo': 3369, 'pass': 3311, 'cleanup': 1011, 'orange': 3227, 'blossom': 717, 'trl': 4569, '57am': 216, 'communities': 1092, 'already': 405, 'experiencing': 1679, 'effects': 1542, 'climate': 1021, 'act': 304, '20min': 82, 'ln': 2683, 'us212': 4677, 'dir': 1394, 'winter': 4900, 'conditions': 1113, 'mt': 3002, 'gate': 1954, 'wy': 4960, 'beartooth': 627, 'trafficalert': 4533, 'intersection': 2392, 'signals': 4066, 'know': 2535, 'technology': 4394, 'such': 4302, 'appreciate': 468, 'honor': 2211, 'trust': 4581, 'characters': 937, 'queensugar': 3597, 'drink': 1472, 'color': 1069, 'sources': 4150, 'sister': 4082, 'cause': 892, 'bought': 742, 'stay': 4228, 'helping': 2145, 'blessed': 703, 'drivers': 1478, 'duty': 1499, 'electric': 1552, 'non': 3115, 'grass': 2032, 'fire': 1802, 'rl': 3811, 'food': 1853, 'hello': 2141, 'reference': 3680, 'link': 2659, 'hart': 2102, 'alternate': 408, 'reduced': 3675, 'davenport': 1287, 'width': 4867, 'limit': 2650, 'effect': 1540, 'sumter': 4310, '29pm': 114, 'band': 590, 'rain': 3613, 'setting': 3998, 'counties': 1186, 'afternoon': 352, 'could': 1180, 'ad': 315, 'three': 4457, 'westside': 4845, 'lp': 2732, 'hunger': 2252, 'rise': 3805, 'according': 295, 'analysis': 430, 'photos': 3370, 'production': 3532, 'progress': 3541, 'goes': 2000, 'weather': 4817, 'october': 3166, 'closures': 1036, 'pedestrian': 3338, 'lexington': 2632, 'onto': 3210, 'counting': 1187, 'down': 1456, 'trade': 4529, 'support': 4320, 'harlem': 2096, 'ta': 4353, 'malaria': 2767, 'death': 1307, 'rate': 3633, 'africa': 349, 'fell': 1770, 'security': 3949, 'prospect': 3555, 'oakwood': 3155, 'capitol': 861, '83b': 257, 'stopped': 4251, 'severe': 4001, 'walker': 4775, 'police': 3443, 'temporary': 4405, 'recovery': 3671, 'lots': 2716, 'received': 3660, 'patent': 3321, 'helped': 2143, 'hold': 2192, 'music': 3013, 'audience': 534, 'suggestion': 4306, 'box': 751, 'osceola': 3240, 'sr70': 4196, 'ft': 1917, 'pierce': 3387, 'norfolk': 3118, 'overturned': 3261, 'hrtraffic': 2242, 'dunlap': 1493, 'bottom': 741, '4th': 194, 'budget': 807, 'opportunity': 3222, 'speak': 4159, 'teen': 4395, 'facing': 1707, 'difficult': 1387, 'university': 4645, 'money': 2950, 'wow': 4948, 'vista': 4752, 'investigation': 2402, 'hollywood': 2199, 'every': 1640, 'woman': 4916, 'needs': 3061, 'message': 2856, 'save': 3900, 'soul': 4146, 'supersoulsunday': 4316, 'breaking': 769, 'motion': 2980, 'mets': 2864, 'willets': 4875, '33rd': 137, 'jline': 2456, 'delancey': 1331, 'essex': 1623, 'hope': 2214, 'info': 2357, 'helps': 2146, 'getting': 1976, 'touch': 4511, 'silver': 4072, 'issued': 2418, 'florida': 1836, 'tag': 4358, 'prepared': 3495, 'sex': 4004, 'housing': 2231, 'recent': 3662, 'research': 3744, 'highland': 2164, 'barry': 604, 'br': 756, 'too': 4500, 'late': 2574, 'reserve': 3747, 'click': 1019, 'start': 4213, 'reservation': 3746, 'figure': 1785, 'truly': 4578, 'only': 3208, 'using': 4689, 'brain': 758, 'sh': 4009, 'old': 3196, 'fruit': 1913, 'connector': 1130, 'illinois': 2312, 'midwest': 2879, 'seek': 3952, 'dublin': 1488, 'm50': 2744, 'breakdown': 767, 'red': 3673, 'needed': 3060, 'beliebers': 652, 'company': 1097, 'most': 2976, 'song': 4141, 'escambia': 1618, '03pm': 8, 'bad': 579, 'deal': 1302, 'restaurants': 3767, 'else': 1562, 'including': 2339, 'blogs': 715, 'hurricaneharvey': 2259, 'sa': 3873, 'michigan': 2871, 'days': 1293, 'hills': 2175, 'maint': 2760, 'ops': 3223, 'occurring': 3162, 'ramps': 3624, 'jct': 2443, 'obstruction': 3160, 'ca': 831, 'los': 2710, 'gatos': 1956, 'sr903': 4197, 'zpass': 4999, 'la': 2547, 'date': 1283, 'ohio': 3187, 'festival': 1775, 'corner': 1169, 'sept': 3983, '24th': 99, 'dames': 1270, 'lee': 2612, 'pine': 3390, '51pm': 201, 'gardiner': 1951, 'marcy': 2787, 'myrtle': 3021, '42nd': 171, 'times': 4477, 'square': 4193, 'oh': 3185, 'wait': 4770, 'yet': 4978, 'wants': 4785, 'pain': 3277, '36th': 150, 'lewis': 2631, 'hole': 2195, 'crews': 1218, 'scene': 3912, 'main': 2757, 'flushing': 1840, 'kansas': 2495, 'butler': 824, 'solar': 4128, 'eclipse': 1523, 'parking': 3296, '9c': 271, 'tweet': 4608, 'gimmesugar': 1980, 'yes': 4976, 'room': 3839, 'homeless': 2204, 'pack': 3269, '46am': 181, 'nice': 3087, 'cheers': 953, 'delta': 1344, 'worldofdance': 4939, 'nbc': 3046, 'letsdance': 2626, 'prince': 3517, 'william': 4876, '08pm': 17, 'jones': 2471, 'salt': 3886, 'lake': 2556, 'doors': 1452, 'whatever': 4850, 'keep': 2499, 'perspective': 3357, 'god': 1999, 'allowed': 399, 'he': 2120, 'going': 2003, 'peak': 3337, 'wildfire': 4872, 'longer': 2702, 'dangerous': 1278, 'expensive': 1675, 'actonclimate': 311, 'exactly': 1649, 'try': 4583, 'call': 837, 'happened': 2085, 'jp': 2479, 'dline': 1427, 'bedford': 637, 'worst': 4944, 'thing': 4436, 'craving': 1205, 'chicken': 966, 'milwaukee': 2896, 'wis': 4903, 'donate': 1443, 'society': 4125, 'disaster': 1404, 'relief': 3703, 'fund': 1929, 'animals': 437, 'hurricane': 2258, 'harvey': 2105, 'send': 3973, 'pics': 3380, 'throughout': 4460, 'some': 4135, 'advice': 335, 'harp': 2097, 'refinance': 3681, '21pm': 87, 'broken': 790, 'allen': 396, 'big': 677, 'closer': 1032, 'than': 4421, 'ever': 1639, 'ending': 1582, 'polio': 3446, 'ray': 3637, 'maintenance': 2761, 'boot': 732, 'based': 607, 'goals': 1998, 'fine': 1799, '12a': 33, 'brattleboro': 763, 'reopened': 3719, 'collier': 1065, 'welcome': 4833, 'level': 2629, 'course': 1192, 'glad': 1989, 'race': 3605, 'richard': 3792, 'victoria': 4728, 'presentation': 3499, 'week': 4826, 'chapter': 935, 'meeting': 2837, '8th': 263, 'cir': 988, 'cutting': 1255, 'funding': 1931, 'parenthood': 3290, 'airline': 376, 'nola': 3113, 'amazon': 416, 'fast': 1738, 'door': 1451, 'bothdir': 739, '53rd': 207, 'gline': 1993, 'stillwell': 4242, 'av': 550, '2nd': 121, 'walnut': 4779, 'streets': 4270, 'schools': 3921, 'base': 606, 'lands': 2563, 'list': 2664, 'meet': 2836, 'us206': 4676, 'chambers': 923, 'culture': 1242, 'agriculture': 366, 'nearby': 3053, 'jam': 2432, 'social': 4124, 'special': 4162, 'event': 1637, 'side': 4060, 'tube': 4588, 'spoke': 4178, 'outstanding': 3256, 'secretary': 3945, 'general': 1962, 'closely': 1031, 'rural': 3864, 'david': 1288, 'kindly': 2524, 'provide': 3562, 'assistance': 514, 'grab': 2023, 'sale': 3883, 'dates': 1284, 'location': 2692, 'game': 1943, 'matt': 2810, 'starts': 4216, 'alton': 411, 'brown': 798, 'fan': 1726, '3d': 159, 'overnight': 3258, 'several': 4000, 'close': 1029, 'weeks': 4829, 'repairs': 3722, 'acting': 305, 'blind': 705, 'pictures': 3382, 'pkwy': 3401, 'anthony': 448, 'agreement': 364, 'year': 4971, 'commitment': 1087, 'made': 2750, 'safer': 3878, 'philadelphia': 3366, 'feel': 1766, 'sense': 3978, 'nazi': 3043, 'types': 4619, 'met': 2858, 'i40': 2278, 'teg': 4398, 'steel': 4230, 'well': 4835, 'experts': 1682, 'tr': 4524, 'school': 3920, 'zone': 4996, 'remember': 3709, 'cell': 908, 'mexico': 2865, 'best': 670, 'lead': 2595, 'pdxtraffic': 3335, 'stall': 4203, 'ridge': 3796, 'kpwww': 2544, 'almost': 401, 'franklin': 1893, 'sterling': 4234, 'lincoln': 2653, 'fuller': 1923, 'warren': 4791, '22pm': 92, 'appalachian': 462, 'power': 3478, 'property': 3553, 'smith': 4111, 'sold': 4130, 'listing': 2668, 'youtube': 4989, 'video': 4730, 'project': 3542, 'group': 2047, 'bed': 636, 'prevention': 3508, 'monitor': 2952, 'church': 986, 'long': 2701, 'small': 4106, '90b': 264, 'minimal': 2903, 'mean': 2826, 'wall': 4777, 'alt': 407, 'less': 2622, 'minutes': 2910, 'panel': 3282, 'mon': 2948, 'el': 1549, 'much': 3006, 'agoutlook': 362, 'iowa': 2409, 'governor': 2020, 'tech': 4390, 'guess': 2057, 'ask': 505, 'same': 3888, 'think': 4438, 'includes': 2338, 'media': 2833, 'nobody': 3112, 'chicago': 964, 'style': 4295, 'foods': 1854, 'sd': 3929, '2mi': 120, '1mi': 76, 'ia': 2295, 'garden': 1948, 'parkway': 3298, 'exiting': 1668, 'nm': 3108, 'us30': 4679, 'portland': 3462, 'intermittent': 2389, 'plan': 3409, 'morgan': 2970, 'haven': 2112, 'give': 1984, 'pleasure': 3433, 'calendar': 834, 'charlotte': 942, 'hillsborough': 2176, 'crescent': 1215, 'puts': 3585, 'clinic': 1025, 'art': 493, 'polo': 3451, 'ralph': 3622, 'lauren': 2585, 'suit': 4307, 'meetings': 2838, 'london': 2700, 'ames': 423, 'suggest': 4305, 'leaves': 2608, 'shore': 4041, 'explains': 1684, 'successfully': 4301, 'cases': 884, 'board': 721, 'claim': 998, 'set': 3997, 'practices': 3485, 'riverside': 3809, 'terminal': 4409, 'process': 3528, 'neck': 3058, 'comments': 1083, 'detour': 1367, 'behind': 650, 'scenes': 3913, 'excited': 1655, 'june': 2488, 'wednesday': 4824, 'doing': 1436, 'comedy': 1077, 'games': 1944, 'lit': 2670, 'stage': 4202, 'awards': 565, 'entry': 1606, 'rookietackle': 3838, 'kids': 2518, 'field': 1779, 'someone': 4137, 'facebook': 1704, 'follow': 1849, 'steps': 4233, 'cb': 898, 'mva': 3017, '52am': 202, 'available': 551, 'smart': 4108, 'everywhere': 1645, 'streaming': 4268, 'purpose': 3578, 'literally': 2671, 'changing': 931, 'alexandria': 390, 'passed': 3313, 'law': 2587, 'named': 3025, 'confederate': 1116, 'carolina': 875, 'does': 1432, 'dot': 1453, 'patrol': 3326, 'arrived': 491, 'pages': 3275, 'must': 3016, 'names': 3026, 'represent': 3735, 'learn': 2603, 'jb': 2442, 'walk': 4774, 'summer': 4308, 'tip': 4478, 'card': 865, 'instead': 2381, 'town': 4520, 'monroe': 2954, 'wa': 4769, 'valley': 4700, 'split': 4176, 'accounts': 298, 'detail': 1365, 'af': 342, 'children': 969, 'human': 2248, 'rising': 3806, 'nigeria': 3089, 'childrenunderattack': 970, 'winds': 4890, 'mph': 2999, 'moving': 2995, 'shortly': 4043, 'storm': 4258, 'surge': 4328, 'come': 1076, 'shelter': 4026, 'data': 1282, 'feed': 1763, 'hungry': 2253, 'changed': 929, 'design': 1360, 'sxsw': 4347, 'choosework': 980, 'family': 1724, 'ma': 2745, 'hands': 2079, 'shop': 4039, 'consumers': 1138, 'benefit': 663, 'lower': 2730, 'costs': 1177, 'medical': 2835, 'shelby': 4024, 'jason': 2440, 'japan': 2439, 'eastern': 1517, 'bronx': 791, 'books': 730, 'lakes': 2557, '49pm': 188, 'forest': 1867, '71st': 244, 'health': 2125, 'prosperity': 3556, 'biz': 695, 'role': 3833, 'address': 322, 'reducing': 3676, 'own': 3262, 'alcohol': 385, 'led': 2611, 'true': 4577, 'blood': 716, 'far': 1729, 'alone': 402, 'cops': 1165, 'arrested': 489, 'fish': 1810, 'house': 2230, 'wittpenn': 4913, 'darien': 1280, 'thru': 4462, 'interchange': 2385, 'worth': 4945, 'foreign': 1866, 'aid': 371, 'fight': 1782, 'saved': 3901, 'lives': 2675, 'million': 2892, 'district': 1419, 'classes': 1004, 'attention': 531, 'appropriate': 471, 'team': 4386, 'usda': 4683, 'provides': 3565, 'nutritious': 3145, 'humanitarian': 2249, 'effort': 1544, 'don': 1441, 'chance': 927, 'deadline': 1300, 'listening': 2667, 'golf': 2006, 'king': 2525, 'dayton': 1295, 'us89': 4680, 'milepost': 2884, 'wyoroad': 4965, 'read': 3647, 'letter': 2627, 'article': 495, 'middle': 2873, 'collection': 1062, 'global': 1994, 'online': 3207, 'anderson': 432, 'separate': 3982, 'accidents': 294, 'grade': 2025, 'tree': 4559, 'talk': 4365, 'joy': 2478, '34th': 142, 'hudson': 2246, 'yards': 4968, 'damage': 1268, 'fdi': 1751, 'specific': 4164, 'industries': 2354, 'continue': 1146, 'evening': 1636, 'ride': 3795, 'accordingly': 296, 'gwinnett': 2066, 'leaving': 2609, 'restrictions': 3772, 'bet': 671, 'jimmy': 2453, 'carter': 881, 'ceo': 914, 'chris': 982, 'discussing': 1411, 'ag': 353, 'sec': 3941, 'vilsack': 4737, 'usdaresults': 4684, 'wanted': 4784, 'collaborate': 1059, 'ticket': 4468, 'without': 4910, 'clearly': 1016, 'seeks': 3954, 'energy': 1584, 'virginia': 4743, 'public': 3569, 'failed': 1711, 'announces': 442, 'chat': 946, '11am': 29, 'responsible': 3764, 'violence': 4740, 'charlottesville': 943, '54pm': 209, 'shadesofblue': 4010, 'tampa': 4368, 'trains': 4540, 'i495': 2280, 'van': 4703, 'wyck': 4963, 'expwy': 1693, 'woodhaven': 4923, 'stevens': 4236, 'snowing': 4121, 'compact': 1095, 'ice': 2298, 'avalanche': 552, 'control': 1153, 'feb': 1759, 'largest': 2569, 'phoenix': 3367, 'az': 570, 'manager': 2774, 'word': 4926, 'jobspot': 2460, 'entr': 1603, 'isle': 2415, 'wight': 4869, '00am': 0, 'us26': 4678, 'moose': 2967, 'moran': 2968, 'jan': 2437, 'dekalbcounty': 1329, '511ga': 198, 'cop': 1164, 'ppl': 3482, 'anything': 454, 'wrong': 4955, 'doesn': 1433, 'sounds': 4148, 'device': 1376, 'kiaj': 2513, 'ny': 3148, 'buses': 818, 'detoured': 1368, 'paving': 3330, 'volusia': 4759, '02pm': 6, 'description': 1358, 'fighting': 1784, 'feeling': 1767, 'pavement': 3329, 'requires': 3741, 'vly': 4754, 'view': 4733, 'chain': 920, 'workplace': 4934, 'solutions': 4133, 'entire': 1602, 'workforce': 4931, 'fline': 1827, 'northern': 3124, 'name': 3024, 'asks': 509, 'san': 3890, 'francisco': 1891, 'meals': 2825, 'till': 4473, 'fog': 1847, 'augusta': 537, '46pm': 182, 'harrisburg': 2100, 'front': 1910, 'cedar': 902, 'gives': 1987, 'calling': 839, 'hampton': 2076, 'friendly': 1906, 'reminder': 3711, 'bring': 783, 'sustainability': 4337, 'scale': 3910, 'hot': 2225, 'sand': 3891, 'dance': 1274, 'party': 3308, 'flip': 1828, 'landing': 2562, 'saturday': 3898, 'store': 4255, 'guest': 2058, 'nfl': 3083, 'emergency': 1571, 'express': 1690, 'i44': 2279, 'travels': 4554, 'cargo': 873, 'test': 4414, 'tune': 4595, 'outlook': 3253, 'forum': 1878, 'land': 2561, 'transition': 4545, 'transform': 4543, 'economy': 1528, 'aline': 392, '125th': 32, 'canal': 852, 'improving': 2330, 'areas': 482, 'essential': 1622, 'developing': 1374, 'capital': 860, 'bio': 686, 'scheduled': 3917, 'thurs': 4465, 'merge': 2852, 'fashion': 1737, 'solid': 4131, 'apple': 466, 'alternative': 410, '2line': 119, '241st': 95, 'wakefield': 4773, 'nationalcupxvi': 3033, 'champions': 925, 'sure': 4326, 'top': 4504, 'released': 3701, 'seeing': 3951, 'drop': 1480, 'cost': 1176, 'forums': 1879, 'paper': 3285, 'watching': 4799, 'moments': 2946, 'seconds': 3943, 'ashland': 502, 'deer': 1322, 'actual': 313, 'deaths': 1308, 'ncds': 3050, 'dying': 1501, 'productive': 3533, 'diversity': 1422, 'program': 3539, 'known': 2538, 'algo_mgm': 391, 'montgomery': 2956, 'border': 734, 'flood': 1830, 'james': 2434, 'madison': 2752, 'george': 1968, 'twp': 4614, 'us16': 4670, '16a': 54, 'stalled': 4204, 'maps': 2783, 'powerful': 3479, 'tool': 4502, 'against': 355, 'eyes': 1702, 'download': 1458, '04am': 9, 'imagine': 2317, 'price': 3511, 'shows': 4057, 'wing': 4893, 'crunch': 1231, 'menu': 2848, 'demand': 1345, 'wallace': 4778, 'conservation': 1132, 'discussion': 1412, 'lights': 2644, 'tickets': 4469, 'vip': 4742, 'packages': 3271, 'witnessthetour': 4912, 'parents': 3291, 'model': 2937, 'consumption': 1139, 'teens': 4396, '57th': 218, 'grand': 2028, 'won': 4918, 'raised': 3618, 'done': 1448, 'beef': 639, 'per': 3345, 'fewer': 1777, 'americans': 421, 'cancer': 855, 'evidence': 1646, 'grown': 2052, 'rally': 3621, 'united': 4640, 'catastrophic': 888, 'reach': 3643, 'radar': 3608, 'sample': 3889, 'eye': 1701, 'monday': 2949, 'existing': 1662, 'idaho': 2303, 'fr': 1889, 'clt': 1040, 'ih': 2308, 'loop': 2707, 'homestead': 2207, 'treatment': 4558, 'plant': 3416, 'direct': 1395, 'ar': 477, 'jw': 2494, 'martin': 2799, 'luther': 2739, 'ckh': 995, 'apologies': 459, 'i678': 2282, '20th': 84, 'building': 810, 'brought': 796, 'concrete': 1111, 'director': 1399, 'cartier': 882, 'debut': 1310, 'film': 1789, 'february': 1760, 'vs': 4766, 'jefferson': 2447, 'fixing': 1815, 'inconvenience': 2341, 'wy22': 4961, 'orlando': 3237, 'celebrate': 903, 'hurry': 2261, 'labor': 2550, 'snap': 4117, 'pick': 3375, 'cooking': 1160, 'dunwoody': 1495, 'atltraffic': 526, 'man': 2771, 'care': 867, 'movement': 2992, 'pair': 3278, 'ore217': 3230, 'pleased': 3432, 'believe': 653, 'fat': 1741, 'aren': 483, 'following': 1852, 'direction': 1396, 'advance': 330, 'sustainable': 4338, 'mm2': 2928, '38am': 152, 'frederick': 1894, 'portsmouth': 3463, 'learned': 2604, 'related': 3696, 'considering': 1134, 'raising': 3619, 'tax': 4375, 'moved': 2991, 'friends': 1907, 'nothing': 3133, 'fresh': 1901, 'homes': 2206, 'note': 3131, 'harborview': 2091, 'hokiegrad': 2190, 'ceremony': 916, 'early': 1506, 'backups': 578, 'putting': 3586, 'wonderful': 4920, 'enjoyed': 1596, '22a': 89, 'nhc': 3085, 'policy': 3445, 'priority': 3521, 'influence': 2356, 'fulton': 1926, 'edgewood': 1531, 'logan': 2698, 'i35': 2276, 'seward': 4003, 'wildfires': 4873, 'stick': 4238, 'cold': 1058, 'england': 1593, 'protect': 3557, 'comes': 1078, 'wake': 4772, 'super': 4315, 'busy': 822, 'okay': 3191, 'turn': 4599, 'anywhere': 456, 'tn': 4484, 'wreck': 4951, 'junction': 2487, 'cut': 1252, 'bank': 593, 'creek': 1214, 'farmer': 1731, 'partners': 3305, 'quality': 3591, 'products': 3534, 'situation': 4086, 'stem': 4231, 'pressure': 3505, 'mix': 2921, 'rpo': 3853, 'ccfootballchat': 901, 'approved': 472, 'tx': 4615, 'request': 3739, 'purchase': 3576, 'cards': 866, 'tuned': 4596, 'full': 1922, 'earnyourstars': 1508, '52pm': 204, 'asked': 506, 'started': 4214, 'seen': 3957, 'videos': 4731, 'dropped': 1481, 'yesterday': 4977, 'dixie': 1425, 'interesting': 2388, 'pushing': 3581, 'win': 4886, 'moment': 2945, 'job': 2458, 'propane': 3550, 'empty': 1576, 'tank': 4369, 'ultimate': 4627, 'nature': 3040, 'laugh': 2578, 'loud': 2717, 'ore99e': 3231, 'se': 3932, 'routes': 3849, 'above': 281, 'average': 556, 'a55': 277, 'prices': 3512, 'completed': 1101, 'blog': 714, 'shares': 4017, 'programs': 3540, 'prepare': 3494, 'horrible': 2217, 'guys': 2065, 'loving': 2728, 'aintyourmama': 373, 'having': 2113, 'exciting': 1656, 'eat': 1520, 'orders': 3229, 'fries': 1908, 'broadcast': 788, 'cbs': 899, 'morning': 2971, 'belt': 659, 'players': 3425, 'called': 838, 'damn': 1271, 'mind': 2899, 'firm': 1807, 'growing': 2051, 'buffalo': 808, '12th': 37, 'works': 4935, 'seminole': 3968, '46a': 180, 'posted': 3469, 'crew': 1217, 'reason': 3655, 'tractor': 4528, 'trailer': 4537, 'ic': 2297, '1line': 74, '66th': 234, 'actions': 307, 'tweets': 4610, 'barclays': 599, 'cheer': 952, 'battle': 616, 'donating': 1445, 'spend': 4169, 'men': 2846, 'melinda': 2839, 'begin': 645, 'iatraffic': 2296, 'worland': 4937, 'partially': 3302, '25th': 103, 'alabama': 379, 'motorists': 2984, 'allow': 398, 'added': 318, 'outside': 3255, 'produced': 3530, 'instagram': 2378, 'catch': 889, 'class': 1003, 'las': 2570, 'vegas': 4710, 'aerial': 341, 'campus': 848, 'cleveland': 1018, 'striveforgreatness': 4278, '11pm': 30, 'hawaii': 2114, 'members': 2841, 'move': 2989, 'sales': 3885, 'absolute': 284, 'beauty': 630, 'john': 2462, 'pride': 3514, 'offensive': 3171, 'chefs': 955, 'heat': 2135, 'fairbanks': 1713, 'diverse': 1421, 'agricultural': 365, 'veh': 4711, 'blockage': 710, 'smoke': 4112, 'simple': 4073, 'beat': 628, 'gift': 1978, 'arrive': 490, 'allihave': 397, 'jlovegas': 2457, 'davidson': 1289, 'unscheduled': 4648, 'chattanooga': 947, 'orleans': 3239, 'trending': 4562, 'announced': 440, 'engagement': 1588, 'lisa': 2663, 'dinwiddie': 1393, 'cambridge': 841, 'facility': 1706, 'hang': 2081, 'donation': 1446, 'victims': 4727, 'greenwood': 2041, 'citizens': 991, 'wednesdaywisdom': 4825, 'nafta': 3023, '207th': 79, 'invest': 2399, 'force': 1861, 'consumer': 1137, 'baymeadows': 619, '2hrs': 118, 'occurred': 3161, 'trips': 4568, 'updates': 4654, 'zones': 4997, 'ongoing': 3205, '16th': 59, 'heading': 2123, 'yyctraffic': 4993, 'bayshore': 620, 'swim': 4344, 'period': 3353, 'attack': 527, 'celebrating': 905, 'kelly': 2504, 'usa': 4682, 'football': 1858, 'changes': 930, 'grow': 2050, 'died': 1382, 'congratulations': 1125, 'receiving': 3661, 'recognition': 3665, 'peace': 3336, 'others': 3243, 'finally': 1792, 'fucking': 1920, 'stats': 4225, 'ed': 1529, 'plans': 3415, 'sawgrass': 3904, 'pk': 3400, 'bag': 581, 'ivanhoe': 2427, '39am': 154, 'coming': 1081, 'add': 317, 'admin': 324, 'mg': 2866, 'boys': 755, 'mccarthy': 2817, 'mitchell': 2920, 'freeway': 1898, 'mill': 2889, 'yikes': 4980, 'downed': 1457, 'account': 297, 'beng': 665, 'fired': 1803, 'comey': 1079, 'justice': 2492, 'articles': 496, 'common': 1090, 'character': 936, 'decided': 1315, 'original': 3236, 'ac': 288, 'recruiting': 3672, 'athletes': 521, 'consider': 1133, 'episode': 1611, 'rule': 3858, 'issues': 2419, 'await': 561, 'service': 3991, 'presence': 3497, 'prayers': 3489, 'strong': 4279, 'relationship': 3698, 'multiple': 3009, 'fultoncounty': 1927, 'reinstalling': 3695, 'trying': 4584, 'rush': 3866, 'jammed': 2436, 'cottman': 1178, 'girard': 1981, 'tow': 4515, 'story': 4260, 'lifted': 2641, 'pork': 3458, '36pm': 149, 'begins': 647, 'restore': 3769, 'greater': 2035, 'yellowstone': 4974, 'jim': 2452, 'talks': 4367, 'podcast': 3439, 'sunday': 4312, 'happens': 2087, 'brevard': 773, 'leon': 2621, '16pm': 58, 'nashville': 3028, 'india': 2350, 'least': 2606, 'suspect': 4333, 'voted': 4761, 'crime': 1219, 'drama': 1465, 'actress': 312, 'choice': 976, 'cast': 886, 'vote': 4760, 'ahead': 369, 'those': 4448, 'rosa': 3841, 'parks': 3297, 'milk': 2888, 'included': 2337, 'dairy': 1262, 'monthly': 2958, 'covers': 1198, 'domestic': 1440, 'various': 4706, 'atlanta': 523, 'effective': 1541, 'th': 4420, 'bline': 706, 'kings': 2526, 'preparing': 3496, 'tbt': 4378, 'snoqualmie': 4119, 'rock': 3826, 'blasting': 701, 'cancelled': 854, 'pat': 3320, 'veterans': 4721, 'share': 4015, 'pic': 3374, 'biggest': 679, 'voice': 4755, 'animal': 436, 'causeway': 895, 'case': 883, 'chesapeake': 959, 'bay': 617, 'tom': 4492, 'harris': 2099, 'bv': 828, 'centre': 912, 'cmpd_north': 1043, 'fuck': 1918, 'oregon': 3232, 'unknown': 4646, 'duration': 1496, 'fifth': 1781, 'berlin': 668, 'nh': 3084, 'activity': 310, '38pm': 153, 'continues': 1148, 'journey': 2477, 'correction': 1173, 'danbury': 1273, '149th': 44, 'push': 3580, 'site': 4083, 'hr': 2239, 'tim': 4474, 'management': 2773, 'flooded': 1831, 'neighborhood': 3063, 'raining': 3615, '37am': 151, 'officials': 3181, 'connect': 1127, 'navy': 3041, 'liked': 2646, 'classic': 1005, 'oil': 3188, 'month': 2957, 'informed': 2360, 'choices': 977, 'oechat2017': 3167, 'fork': 1873, 'med': 2832, 'finale': 1791, 'voting': 4764, 'korean': 2543, 'war': 4786, 'likely': 2647, 'port': 3459, 'planning': 3414, 'answer': 445, 'natural': 3039, 'opa': 3211, 'locka': 2694, 'brg': 774, 'kctraffic': 2498, 'thx': 4467, 'associate': 515, 'isn': 2416, 'tvad': 4606, 'moveatyourownpace': 2990, 'slc': 4096, 'clearing': 1015, 'australia': 540, 'international': 2390, 'ben': 661, 'pky': 3402, '23rd': 94, 'discover': 1405, 'foster': 1881, 'resistance': 3752, 'mcdonald': 2819, 'wv': 4958, 'shot': 4046, 'light': 2642, 'rail': 3611, 'remains': 3706, 'evacuation': 1634, 'fly': 1841, 'practice': 3484, 'fields': 1780, 'submit': 4298, 'large': 2568, 'farm': 1730, 'listen': 2666, 'heard': 2130, 'gensler': 1967, 'southeast': 4153, 'harding': 2094, 'corn': 1168, 'wheat': 4851, 'recover': 3670, 'telling': 4401, 'rest': 3765, 'digital': 1390, 'celebrates': 904, 'gop': 2012, 'reporter': 3731, 'da': 1257, 'wins': 4898, 'seat': 3939, 'agent': 360, 'positive': 3465, 'environmental': 1608, 'star': 4211, 'government': 2019, 'relations': 3697, 'ut': 4693, 'different': 1386, 'sad': 3874, 'grove': 2049, 'loved': 2723, 'business': 820, 'leaders': 2597, 'century': 913, 'march': 2786, 'montana': 2955, 'stars': 4212, 'reviews': 3787, 'eastside': 1518, 'families': 1723, 'kudos': 2546, 'making': 2766, 'happen': 2084, 'kicks': 2516, 'dec': 1311, 'eligible': 1556, '9th': 275, 'sts': 4284, 'dyk': 1502, 'economic': 1526, 'development': 1375, 'jobs': 2459, 'cream': 1207, 'picks': 3378, 'virtual': 4745, 'tour': 4513, 'wilson': 4884, 'fl': 1816, 'realestate': 3651, 'currently': 1248, 'enjoying': 1597, 'thefosters': 4428, 'swing': 4345, 'extra': 1698, 'michael': 2869, 'lk': 2678, 'un': 4629, 'took': 4501, 'action': 306, 'asian': 504, 'fav': 1744, 'checked': 950, 'wires': 4902, 'niggas': 3091, 'ass': 510, 'bitch': 694, 'girls': 1983, 'bit': 693, 'blocks': 713, 'nbc4ny': 3047, 'mental': 2847, 'sheridan': 4028, 'really': 3654, 'teton': 4417, 'village': 4736, 'nassau': 3029, 'shut': 4058, 'additional': 321, 'current': 1247, 'political': 3447, 'bike': 680, 'motor': 2981, 'i87majordeeganexpressway': 2288, 'kingsbridge': 2527, 'statue': 4226, 'colors': 1071, 'em': 1567, 'gone': 2007, 'i278': 2271, 'hill': 2173, 'dane': 1276, 'atxtraffic': 532, 'fm': 1843, 'involving': 2407, 'gonna': 2008, 'ya': 4967, 'columbus': 1073, '58am': 219, 'donald': 1442, 'stranded': 4262, 'bus': 817, 'struck': 4281, 'expand': 1671, 'department': 1352, 'worked': 4929, 'dakota': 1263, 'johnson': 2464, 'pantheredecartier': 3283, '4line': 191, 'trends': 4563, 'challenges': 922, 'path': 3322, 'towards': 4517, 'infographic': 2358, 'rht': 3789, 'blkd': 708, 'ocrd': 3164, '25pm': 102, 'standing': 4209, 'henrico': 2149, 'extreme': 1699, 'events': 1638, 'scientists': 3923, 'trend': 4561, 'cl': 996, 'gold': 2004, 'nba': 3045, 'lodge': 2696, '21st': 88, 'holding': 2193, 'growth': 2054, 'ain': 372, 'either': 1548, 'confusion': 1122, 'pricing': 3513, 'fixed': 1814, 'tt': 4587, 'hrbt': 2240, 'mn': 2934, 'fun': 1928, 'activities': 309, 'dave': 1286, 'subject': 4297, 'however': 2236, 'returned': 3780, 'introducing': 2397, '27th': 109, 'slippery': 4102, 'dumb': 1491, 'backing': 576, 'critical': 1221, 'continuing': 1149, 'shout': 4051, 'uhaulfamous': 4623, 'bill': 682, 'knew': 2532, 'build': 809, 'contractor': 1151, 'load': 2686, 'ferry': 1774, 'lot': 2715, 'annual': 443, '58pm': 220, 'fake': 1716, 'becoming': 635, 'germany': 1972, 'lyme': 2741, 'rte': 3857, 'lines': 2658, 'olive': 3197, 'escape': 1619, 'interview': 2394, 'median': 2834, 'income': 2340, 'poverty': 3476, 'signal': 4065, 'delayed': 1334, 'increased': 2343, 'danger': 1277, '1a': 72, 'installed': 2380, 'registration': 3692, 'blast': 700, 'hosting': 2224, 'division': 1424, 'remain': 3704, 'nike': 3096, 'newtown': 3079, 'plain': 3406, 'holmes': 2200, '19pm': 70, 'wed': 4823, 'pitt': 3397, 'foundation': 1883, 'federal': 1762, 'spending': 4170, 'matters': 2812, 'users': 4687, 'saying': 3906, 'play': 3422, 'little': 2672, 'feedback': 1764, 'ah': 368, 'dept': 1356, 'section': 3946, 'township': 4521, 'okaloosa': 3190, '07pm': 15, 'downs': 1459, 'cmpd_south': 1044, 'oklahoma': 3195, 'mcm': 2820, 'antelope': 447, 'davis': 1291, 'wanna': 4782, 'jose': 2474, '43am': 173, 'jamie': 2435, 'dallas': 1265, 'bush': 819, 'traf': 4531, 'ga': 1939, 'clsd': 1039, '36am': 148, 'exit82': 1667, 'betsy': 672, 'ross': 3844, 'allegheny': 395, 'table': 4354, 'combat': 1075, 'often': 3183, 'itself': 2424, 'investing': 2403, 'fort': 1877, 'fill': 1787, 'maybe': 2815, 'dress': 1470, 'mom': 2944, 'hokie': 2189, 'wear': 4814, 'styles': 4296, 'pieces': 3385, 'comment': 1082, 'jr': 2480, 'featured': 1756, 'unique': 4638, 'ways': 4808, 'scotland': 3926, 'sfltraffic': 4008, 'chimney': 971, 'mills': 2894, 'gap': 1945, 'griffin': 2045, 'grateful': 2033, 'celebrity': 907, 'culinary': 1241, 'sometimes': 4139, 'forget': 1872, 'actually': 314, '8am': 260, 'luxury': 2740, 'billion': 684, 'km': 2530, 'pioneer': 3395, 'removal': 3712, 'earlier': 1505, 'onhwys': 3206, 'metropolitan': 2863, 'brave': 764, 'hero': 2156, 'soccer': 4123, 'finish': 1800, 'term': 4408, 'rules': 3859, 'marquam': 2796, 'westport': 4844, 'april': 476, 'replacement': 3726, 'guard': 2056, 'increase': 2342, 'france': 1890, 'authorities': 544, 'liquor': 2662, 'giant': 1977, 'paying': 3332, 'enough': 1598, 'haywood': 2116, 'saw': 3903, 'outages': 3250, 'stores': 4256, 'limited': 2651, 'supplies': 4318, 'winnebago': 4894, 'thompson': 4445, 'chief': 967, 'nplfinals': 3142, 'interest': 2386, 'opportunities': 3221, 'found': 1882, 'careers': 870, 'companies': 1096, 'skills': 4091, 'rockaway': 3827, 'lloyd': 2681, '28th': 112, 'teach': 4382, 'vital': 4753, 'uhaul': 4622, 'put': 3582, 'pop': 3455, 'map': 2781, 'm1': 2743, 'slip': 4101, 'leeds': 2613, 'flowing': 1839, 'sexual': 4005, 'assault': 511, 'reasons': 3656, 'supports': 4324, 'thoughts': 4451, 'idea': 2304, 'exit177': 1665, 'began': 644, 'sch': 3915, '7am': 250, '21am': 86, 'stoppage': 4250, '26pm': 105, 'offices': 3178, 'hospitality': 2220, 'example': 1651, 'modernmonday': 2940, '5a': 225, '08am': 16, 'hotel': 2226, '12am': 34, '10th': 27, 'hazard': 2117, 'stltraffic': 4245, 'usual': 4692, 'sneak': 4118, 'absolutely': 285, 'stunning': 4293, 'personal': 3356, 'saving': 3902, '18am': 66, 'wireless': 4901, 'gifts': 1979, 'lancaster': 2560, 'responding': 3761, 'fuel': 1921, '28am': 110, 'remove': 3713, 'decision': 1316, 'tpke': 4523, 'purposetour': 3579, 'us189': 4671, 'daniel': 1279, 'code': 1055, 'cool': 1161, 'lafayette': 2555, 'fwy': 1936, 'seasonal': 3938, 'shadow': 4011, 'loves': 2727, 'singing': 4076, 'lyric': 2742, 'whatdoyoumean': 4849, 'sick': 4059, 'lbs': 2593, 'faster': 1739, 'mmmbt': 2933, 'newport': 3077, '20pm': 83, '3line': 160, '96th': 266, 'release': 3700, 'amount': 425, 'selectusa': 3961, 'forever': 1869, 'surprise': 4329, 'pitch': 3396, 'crown': 1228, 'further': 1934, 'colleagues': 1061, 'headed': 2122, 'doogle': 1450, 'surface': 4327, 'throw': 4461, 'machine': 2748, 'hashtag': 2107, 'weird': 4832, 'funny': 1933, 'embarrassing': 1570, 'type': 4618, 'wayne': 4807, 'weigh': 4830, 'restaurant': 3766, 'biztalk': 696, 'foodservice': 1856, 'com': 1074, 'fhfa': 1778, 'published': 3570, 'session': 3995, 'serve': 3988, 'wind': 4887, '22am': 90, 'means': 2827, 'devastating': 1371, 'removed': 3714, 'universities': 4644, 'killed': 2520, 'taken': 4361, 'knowledge': 2537, 'technologies': 4393, 'agenda': 359, 'english': 1594, 'computer': 1104, 'rogers': 3831, 'double': 1454, 'pretty': 3506, 'robert': 3821, 'minister': 2904, 'andrew': 433, 'mike': 2881, 'senior': 3977, 'adults': 329, 'passing': 3317, 'chip': 973, 'mercer': 2850, 'seattle': 3940, 'boundaries': 745, 'spotsylvania': 4184, 'daily': 1261, 'reading': 3648, 'lord': 2709, 'trail': 4536, 'fans': 1727, 'definitely': 1326, 'investigate': 2400, 'awaiting': 562, 'ep': 1609, 'principal': 3519, 'trapped': 4549, 'i15': 2269, 'anniversary': 438, 'mm3': 2929, '24am': 97, 'mar': 2784, 'hunts': 2257, 'angeles': 435, 'universal': 4643, 'dale': 1264, 'mabry': 2746, 'euclid': 1631, 'zoo': 4998, 'louisiana': 2721, 'crazy': 1206, 'hurt': 2262, 'bridgeport': 778, 'tpk': 4522, 'stratford': 4266, '180th': 64, 'vaca': 4698, '34pm': 141, 'vets': 4722, 'lucky': 2736, 'chart': 944, 'kellogg': 2503, 'mtn': 3004, 'stupid': 4294, 'increases': 2344, 'low': 2729, 'fall': 1717, 'mothers': 2979, 'climatechange': 1023, 'millions': 2893, 'bangladesh': 592, 'nline': 3107, '59th': 224, 'arlington': 485, '40am': 164, 'internet': 2391, 'trafficon17': 4534, 'campbell': 846, 'de': 1298, 'sports': 4180, 'parent': 3289, 'behavior': 649, 'spent': 4171, 'chemical': 956, 'reg': 3685, 'cross': 1225, 'speed': 4167, 'picture': 3381, 'seems': 3956, 'mount': 2987, 'garage': 1947, 'northway': 3125, 'springs': 4190, 'learning': 2605, 'favorites': 1747, 'milling': 2891, 'expected': 1674, 'reduce': 3674, 'waste': 4796, 'farmers': 1732, 'grant': 2030, 'rosec': 3843, 'camp': 844, '22nd': 91, '35th': 146, 'us14': 4668, 'shell': 4025, 'elk': 1559, 'announcement': 441, '17am': 61, 'clock': 1028, 'patience': 3323, 'easing': 1514, 'ur': 4661, 'track': 4525, 'leadership': 2598, 'thursday': 4466, 'camera': 843, 'system': 4351, 'jh': 2451, 'perfect': 3348, '8b': 261, '59am': 222, 'fairfield': 1715, 'us1': 4666, 'bankhead': 594, 'flat': 1821, 'il': 2310, 'flight': 1826, 'hiring': 2178, 'engineer': 1590, 'roanoke': 3819, 'flag': 1818, '45th': 179, 'nat': 3030, 'solution': 4132, 'speaking': 4160, 'nazareth': 3042, 'levels': 2630, 'mississippi': 2918, 'nj73': 3106, 'match': 2806, 'face': 1703, 'clermont': 1017, 'hall': 2072, 'outage': 3249, 'newark': 3071, 'crossing': 1226, 'flex': 1824, 'modern': 2939, 'dry': 1487, 'leader': 2596, '3billionbetterdays': 158, 'giving': 1988, 'weston': 4843, 'lb': 2592, 'artist': 498, 'discuss': 1408, 'generation': 1963, 'systems': 4352, 'toward': 4516, 'essington': 1624, 'sun': 4311, 'coverage': 1195, 'hq': 2238, 'prep': 3493, 'feat': 1754, 'vacation': 4699, 'cholera': 978, 'associated': 516, 'across': 303, 'yemen': 4975, 'keyser': 2511, 'automotive': 549, '64e': 233, '34am': 140, 'songs': 4142, 'everything': 1644, 'omg': 3199, 'abroad': 282, 'result': 3773, 'exercise': 1659, 'ourocean': 3246, '4b': 190, 'protected': 3558, 'options': 3225, 'br_traffic': 757, 'svb': 4341, 'thrilled': 4458, 'vietnam': 4732, 'wishes': 4906, 'heads': 2124, 'entrepreneurs': 1605, 'piece': 3384, 'lucie': 2734, 'watched': 4798, 'newest': 3073, 'timeline': 4476, 'features': 1757, '30pm': 127, 'nearly': 3055, 'urgent': 4664, 'executive': 1658, 'dude': 1489, 'five': 1812, 'symposium': 4348, 'fighter': 1783, 'mobile': 2936, 'floor': 1834, 'terms': 4410, 'burr': 816, 'i78': 2284, 'lakeview': 2558, 'montpelier': 2961, 'stuck': 4286, 'unit': 4639, 'father': 1743, 'brother': 795, 'ups': 4659, 'spill': 4174, 'culvert': 1243, 'canarsie': 853, '56am': 213, 'interested': 2387, 'emails': 1569, 'regarding': 3686, 'commute': 1094, 'sending': 3974, 'incl': 2335, 'newyorkcity': 3081, 'forecast': 1865, 'blue': 718, 'kc': 2497, 'mo': 2935, '63rd': 232, 'gun': 2063, 'workers': 4930, 'degree': 1327, 'facilities': 1705, 'cant': 857, 'restoration': 3768, 'lets': 2625, 'mm1': 2927, 'colonial': 1068, 'owner': 3263, 'welcoming': 4834, 'macarthur': 2747, '35e': 144, 'sandy': 3892, 'askharlee': 507, 'services': 3992, 'shelters': 4027, 'elsevier': 1563, 'operating': 3217, 'schedule': 3916, 'packing': 3273, 'boxes': 752, 'said': 3881, 'moves': 2993, 'happiness': 2088, 'howard': 2235, 'tweeting': 4609, 'fremont': 1899, 'i90nysthruway': 2292, 'albany': 383, 'wasn': 4795, 'locations': 2693, 'infrastructure': 2361, 'pas17': 3309, 'republican': 3737, 'metro': 2862, 'rdwork': 3641, 'benefits': 664, 'challenge': 921, 'storms': 4259, 'amounts': 426, 'version': 4719, 'reported': 3729, 'rose': 3842, 'i4': 2277, 'notice': 3134, 'folks': 1848, 'pembroke': 3341, 'vernon': 4717, 'vaux': 4707, 'horse': 2218, 'circle': 989, 'dad': 1259, 'die': 1381, 'held': 2138, 'paul': 3328, 'cs': 1234, 'apologize': 460, 'experienced': 1677, 'repair': 3721, 'nuclear': 3143, 'statement': 4219, 'mto': 3005, 'buy': 826, 'concern': 1106, 'easier': 1512, 'hokies': 2191, 'upcoming': 4651, 'upon': 4656, 'slowing': 4104, 'records': 3669, 'turner': 4601, 'charles': 940, 'finals': 1793, 'boy': 753, 'deadly': 1301, 'confirm': 1119, 'plus': 3436, 'wide': 4866, 'riding': 3798, 'size': 4089, 'coaches': 1049, 'yourself': 4987, 'cable': 832, 'hanging': 2082, 'counter': 1185, 'customer': 1250, 'heart': 2132, 'rip': 3804, 'highlights': 2166, 'index': 2349, 'q1': 3587, 'investments': 2405, 'boost': 731, 'manufacturing': 2779, 'loudoun': 2718, '50pm': 196, 'concord': 1109, 'book': 729, 'club': 1042, '10am': 24, '4pm': 193, 'parade': 3288, 'problem': 3525, 'farms': 1735, 'williston': 4880, 'trucks': 4575, '42pm': 172, 'alternating': 409, 'gapc2017': 1946, 'justin': 2493, 'bieber': 676, 'album': 384, '40pm': 165, 'travelers': 4552, 'living': 2676, 'mass': 2803, 'host': 2222, 'promote': 3546, 'livingston': 2677, 'wrap': 4950, 'i295': 2275, 'independent': 2348, 'campaign': 845, 'launched': 2581, 'aurora': 538, 'return': 3779, 'pulled': 3573, 'bc': 622, 'fucked': 1919, 'maple': 2782, 'groups': 2048, 'solareclipse2017': 4129, 'shooting': 4038, 'winston': 4899, 'victim': 4726, 'mdtraffic': 2822, 'daughter': 1285, 'son': 4140, 'carbon': 864, 'climateaction': 1022, 'hickory': 2159, 'mecklenburg': 2831, 'drainage': 1464, 'sean': 3934, 'abuse': 287, '72nd': 246, 'retail': 3778, 'census': 909, 'matraffic': 2809, 'official': 3179, 'teamusa': 4389, 'dam': 1267, 'initiative': 2363, 'secure': 3948, '41st': 169, 'lovely': 2725, 'delaware': 1332, 'upper': 4657, '51am': 200, 'staff': 4200, 'risk': 3807, 'taking': 4363, 'drinks': 1474, 'tornado': 4507, 'warning': 4789, 'chstrfc': 985, 'hacked': 2067, 'republic': 3736, 'polk': 3449, 'error': 1617, 'especially': 1620, 'serves': 3990, '40th': 166, '25am': 101, 'pond': 3452, 'cline': 1024, 'hoyt': 2237, 'schermerhorn': 3918, 'douglas': 1455, 'raise': 3617, 'awareness': 567, 'manage': 2772, 'dark': 1281, 'truth': 4582, 'freedom': 1897, 'historical': 2181, 'break': 766, 'french': 1900, 'army': 487, 'weak': 4812, 'era': 1615, 'peter': 3360, 'expert': 1680, 'nutrition': 3144, 'advantage': 332, 'promotion': 3548, 'yaz': 4969, 'employee': 1574, 'scott': 3927, 'elementary': 1554, 'raleigh': 3620, 'player': 3424, 'popular': 3456, 'tells': 4402, 'decisions': 1317, 'kent': 2506, 'dfwtraffic': 1377, 'shirt': 4033, 'google': 2011, 'serving': 3994, 'loading': 2688, 'conference': 1117, 'shipping': 4032, 'mary': 2800, 'iconic': 2299, 'buildings': 811, 'newjerseyturnpike': 3074, 'listed': 2665, 'projects': 3543, 'plane': 3411, 'hoping': 2216, '242nd': 96, 'cortlandt': 1175, 'brook': 792, 'marketing': 2793, 'ellsworth': 1560, '4mi': 192, 'racism': 3606, 'deep': 1320, 'trouble': 4571, 'walking': 4776, 'emerson': 1572, 'branch': 759, 'measure': 2829, 'le': 2594, 'nov': 3136, 'dctraffic': 1297, 'powerlines': 3480, 'jjh': 2455, 'product': 3531, 'mission': 2917, 'accept': 291, 'physical': 3373, 'ri': 3790, 'charges': 939, 'kmw': 2531, 'age': 356, 'princeton': 3518, '17pm': 62, 'vine': 4738, 'midnight': 2876, 'spread': 4186, 'lovemaketheworldgoround': 2726, 'register': 3690, 'williamson': 4878, '18th': 68, 'drops': 1483, 'include': 2336, 'exclusive': 1657, 'mini': 2902, 'study': 4291, 'ai': 370, 'cty': 1239, 'primary': 3515, 'november': 3137, 'region': 3688, 'brief': 780, 'crowd': 1227, 'fact': 1708, 'winning': 4897, 'stand': 4206, 'manatee': 2775, '97th': 267, 'des': 1357, 'moines': 2942, 'tackling': 4356, 'certified': 919, 'awarded': 564, 'hub': 2245, 'pasco': 3310, 'cliff': 1020, 'yo': 4981, 'volume': 4756, 'opens': 3215, 'rlid': 3812, 'rn': 3813, 'nations': 3036, 'council': 1182, 'russia': 3867, 'palmetto': 3281, 'worse': 4943, 'earth': 1509, 'syria': 4349, 'healthcare': 2126, 'improve': 2327, 'efficiency': 1543, 'diamond': 1378, 'belmont': 656, '39th': 156, 'foreverychild': 1870, 'monitoring': 2953, 'alerts': 387, 'plate': 3419, 'brdg': 765, 'dirs': 1400, 'tonnelle': 4498, 'tue': 4591, 'thu': 4463, 'tons': 4499, 'fo': 1844, 'row': 3851, 'ok': 3189, 'rolling': 3836, 'cat': 887, 'merritt': 2854, 'roberts': 3822, 'detroit': 1370, 'kind': 2523, 'senate': 3970, 'democrats': 1348, 'confirmed': 1120, 'presidential': 3503, 'yr': 4990, 'okctraffic': 3193, 'imports': 2324, 'nation': 3031, 'nasa': 3027, '45am': 177, 'exam': 1650, 'results': 3774, '44pm': 176, 'thinking': 4439, 'carry': 878, 'bikes': 681, '2a': 116, 'obamacare': 3157, 'appears': 465, 'residual': 3751, 'repeal': 3723, 'replace': 3725, '32am': 134, 'sat': 3896, 'stands': 4210, '48pm': 185, 'europe': 1632, '26s': 106, 'cannot': 856, 'cash': 885, 'bowling': 750, 'chapel': 934, 'wouldn': 4947, 'verse': 4718, 'court': 1193, 'coney': 1115, 'wonder': 4919, 'shit': 4034, 'everybody': 1641, 'sent': 3979, 'partner': 3304, 'goal': 1997, 'us191': 4673, 'pinedale': 3391, 'aware': 566, 'officer': 3176, '11th': 31, 'reply': 3727, 'oaks': 3154, 'concourse': 1110, 'customers': 1251, 'bock': 724, 'addition': 320, 'markets': 2794, 'mr': 3000, 'totally': 4510, 'petersburg': 3361, '50am': 195, 'greetings': 2042, 'might': 2880, '49am': 187, 'none': 3116, '30th': 128, 'ofr': 3182, 'flying': 1842, 'supporting': 4323, 'prevent': 3507, 'warming': 4788, 'nebraska': 3056, 'spur': 4191, 'items': 2422, 'flagg': 1819, 'ranch': 3626, 'boundary': 746, '45pm': 178, 'male': 2768, 'honestly': 2209, 'i240': 2270, 'western': 4841, 'crest': 1216, 'beginning': 646, 'engaged': 1587, 'apply': 467, 'linden': 2656, 'surrey': 4331, 'promoting': 3547, 'regional': 3689, 'earn': 1507, 'waterbury': 4801, 'goes16': 2001, 'january': 2438, 'nc': 3048, 'durham': 1497, 'i29': 2274, 'sioux': 4080, 'falls': 1721, 'tix': 4483, 'prairie': 3486, 'hospital': 2219, 'investigating': 2401, 'sessions': 3996, '44am': 175, 'cc': 900, 'hazardous': 2118, 'missing': 2916, 'reaching': 3645, 'memphis': 2845, 'breaks': 771, 'possibly': 3467, 'strategy': 4265, 'owners': 3264, 'receive': 3659, 'rich': 3791, 'trees': 4560, 'fantastic': 1728, 'ee': 1539, '35pm': 145, 'stopping': 4252, 'al': 378, 'rig': 3799, 'democracy': 1346, 'election': 1551, 'grants': 2031, 'verified': 4715, 'gdp': 1959, 'july': 2484, 'residents': 3750, 'ranchers': 3627, 'businesses': 821, 'congress': 1126, 'phx': 3371, 'charleston': 941, 'calls': 840, 'brookdale': 793, 'architecture': 479, 'straight': 4261, 'countries': 1188, 'tackle': 4355, 'highlight': 2165, 'value': 4701, 'significant': 4068, 'smooth': 4113, 'jupiter': 2490, '29am': 113, 'suwannee': 4340, 'takeamoment': 4360, 'herald': 2152, 'treat': 4555, 'yegtraffic': 4973, 'finds': 1798, 'higher': 2162, 'among': 424, 'young': 4984, 'highways': 2170, 'bow': 748, 'cody': 1056, 'recognize': 3666, 'pdp': 3334, 'morrison': 2973, 'hosted': 2223, 'santa': 3893, 'cruz': 1232, 'stretch': 4274, 'teachers': 4384, 'qb': 3588, '3mi': 161, '511vt': 199, 'corporate': 1171, 'resources': 3756, '26am': 104, 'affect': 343, 'cover': 1194, 'takes': 4362, 'loan': 2689, 'agency': 358, 'wilbur': 4870, 'noaa': 3111, 'kick': 2514, 'portion': 3460, 'auto': 546, 'perdue': 3347, 'thousands': 4452, 'cobb': 1054, 'i90': 2291, 'rental': 3717, 'cars': 879, 'necessary': 3057, 'eric': 1616, 'mail': 2756, 'beer': 641, 'pls': 3435, 'injured': 2364, 'second': 3942, 'powell': 3477, 'kennedy': 2505, 'steve': 4235, 'fam': 1722, 'northampton': 3121, 'lehigh': 2620, 'presents': 3501, 'focus': 1845, '69th': 236, 'created': 1209, 'encourage': 1579, 'sell': 3964, 'improvements': 2329, 'fri': 1903, 'michelle': 2870, 'nominated': 3114, 'abandoned': 278, 'choose': 979, '32pm': 135, '13pm': 41, 'sc': 3909, 'claimed': 999, 'rb': 3639, 'source': 4149, 'southwest': 4156, 'disease': 1413, 'us20': 4675, 'landslide': 2564, 'thermopolis': 4433, 'shoshoni': 4045, 'angel': 434, 'success': 4299, 'exist': 1661, 'maga': 2753, 'spotted': 4185, 'mainline': 2759, 'transportation': 4548, 'corners': 1170, 'sigalert': 4063, 'jeune': 2449, '6line': 240, 'parkchester': 3295, '177th': 60, '138th': 39, 'us19': 4672, 'bergen': 667, '9w': 276, 'democratic': 1347, 'competition': 1098, 'georgewashingtonbridge': 1969, 'rev': 3783, '16e': 57, 'joke': 2470, 'tees': 4397, 'yield': 4979, 'months': 2959, 'striebig': 4275, 'telegraph': 4399, 'bridges': 779, 'sheet': 4023, 'bar': 597, 'labordayweekend': 2551, 'blewett': 704, 'clouds': 1037, 'mostly': 2977, 'hearts': 2134, 'missed': 2914, 'adopt': 326, '15pm': 50, 'assembly': 512, 'premier': 3491, 'league': 2601, 'webinar': 4819, 'smallbiz': 4107, 'seem': 3955, 'joined': 2466, 'collaboration': 1060, 'ukraine': 4626, 'burger': 814, 'stafford': 4201, '41pm': 168, 'inning': 2368, 'skies': 4090, 'inbound': 2332, 'cheap': 948, 'equipment': 1614, 'egg': 1546, 'recently': 3663, 'lab': 2548, 'hundreds': 2251, 'prayer': 3488, 'daytime': 1294, 'suffolk': 4303, 'vicinity': 4725, 'cle': 1008, 'involved': 2406, 'elm': 1561, 'towing': 4519, 'easily': 1513, 'trinity': 4566, 'tropical': 4570, 'strength': 4271, 'impacts': 2321, 'caused': 893, 'advise': 336, 'damagecoverage': 1269, 'wears': 4816, 'runway': 3863, 'nyfw': 3151, 'geneva': 1966, 'christmas': 984, 'bayarea': 618, 'murray': 3011, 'forced': 1862, 'illegal': 2311, 'slavery': 4095, 'spreading': 4187, 'barder': 600, 'bases': 608, 'radio': 3609, 'lan': 2559, 'randolph': 3628, 'goethals': 2002, 'lie': 2637, 'attend': 530, 'expy': 1694, 'hunter': 2255, 'milford': 2886, 'ext': 1695, '1b': 73, '2b': 117, 'robinson': 3824, '10a': 23, 'pike': 3388, 'nine': 3097, 'authority': 545, 'md': 2821, 'barcelona': 598, 'ban': 589, 'happening': 2086, 'joins': 2468, 'protecting': 3559, 'partial': 3301, 'bruce': 799, 'identify': 2306, '03am': 7, 'rights': 3801, 'third': 4441, 'husband': 2263, 'wife': 4868, 'models': 2938, '9mi': 272, 'supreme': 4325, 'afraid': 348, 'iv': 2426, 'causes': 894, 'inventors': 2398, 'ensure': 1599, 'presented': 3500, 'inner': 2367, 'zip': 4995, 'legislation': 2619, 'spots': 4183, 'bird': 687, 'raymond': 3638, 'despite': 1363, 'brings': 785, 'offense': 3170, 'pt': 3568, 'exchange': 1654, 'cp': 1199, 'dealing': 1304, 'waterloo': 4802, 'lol': 2699, 'joining': 2467, 'alive': 393, 'structure': 4282, 'cup': 1245, 'wishing': 4907, 'tho': 4443, 'write': 4953, 'oversize': 3260, 'transit': 4544, 'matter': 2811, 'understand': 4633, 'respond': 3758, 'gay': 1958, 'knowing': 2536, '346a': 138, 'warranty': 4790, 'amelia': 418, 'clo': 1027, 'monica': 2951, 'designed': 1361, 'nevada': 3068, 'signed': 4067, 'civil': 993, '9pm': 274, 'edt': 1535, 'went': 4836, 'sunset': 4314, 'bl': 697, 'potus': 3474, 'solve': 4134, 'planet': 3412, 'spglife': 4173, 'dreams': 1469, 'everyday': 1642, '116th': 28, 'montréal': 2963, 'aut': 542, '168th': 53, 'pd': 3333, 'total': 4509, 'fully': 1925, 'djp': 1426, 'rollover': 3837, 'eating': 1521, 'fruits': 1914, 'middletown': 2875, 'fb': 1748, 'incredible': 2346, 'greatest': 2036, 'student': 4287, 'starwood': 4217, 'stressless': 4273, 'adams': 316, 'nowplaying': 3139, 'utility': 4696, 'deals': 1305, 'corruption': 1174, 'messages': 2857, 'waukesha': 4804, 'responders': 3760, 'falling': 1719, 'plenty': 3434, 'apr': 475, '6b': 239, 'greene': 2038, 'econdev': 1525, 'disappointment': 1403, 'sd46': 3930, '7mi': 252, 'terry': 4413, '14a': 45, 'shea': 4021, 'stadium': 4199, 'empire': 1573, 'huge': 2247, 'moon': 2965, 'closing': 1034, 'js': 2481, 'haul': 2110, 'dealer': 1303, 'fox': 1888, 'respect': 3757, '12b': 35, 'gateway': 1955, 'victory': 4729, 'normal': 3119, 'ended': 1581, 'dell': 1343, 'independence': 2347, 'bond': 727, 'difference': 1385, 'orem': 3233, 'motorcycle': 2982, 'poor': 3454, 'gulf': 2062, '3pm': 162, '12pm': 36, 'icy': 2300, 'jeans': 2445, 'tried': 4565, 'snack': 4116, 'mid': 2872, 'freshman': 1902, 'gain': 1941, 'weight': 4831, 'perform': 3349, 'hotels': 2227, 'guests': 2059, 'cities': 990, 'ease': 1511, 'flow': 1838, 'runs': 3862, 'brush': 800, 'fires': 1805, 'immigration': 2318, 'officers': 3177, 'dogs': 1435, 'driven': 1476, 'container': 1142, 'honored': 2212, 'facts': 1710, 'increasing': 2345, 'daca': 1258, 'loaded': 2687, 'hoboken': 2188, 'successful': 4300, 'sarasota': 3895, 'clark': 1002, '55am': 210, 'athletic': 522, 'academic': 289, 'ny31': 3149, 'quiet': 3602, 'reopen': 3718, 'biscayne': 692, 'journalists': 2476, 'featuring': 1758, 'boat': 723, 'cyclists': 1256, 'joe': 2461, 'ohgo': 3186, 'select': 3959, 'adult': 328, 'etc': 1629, 'becomes': 634, 'uses': 4688, 'doyourjob': 1461, 'threat': 4454, 'adds': 323, 'kid': 2517, '14pm': 47, '09am': 18, 'qualify': 3590, 'tower': 4518, 'arriving': 492, 'condition': 1112, 'letting': 2628, 'discovery': 1406, 'slide': 4099, 'alpine': 404, 'baker': 584, 'ives': 2428, '06am': 13, 'female': 1773, 'viewers': 4734, 'richmond': 3794, 'taylor': 4377, 'pier': 3386, 'minneapolis': 2905, 'dining': 1391, 'laurel': 2584, 'holidays': 2197, 'checking': 951, '02am': 5, 'born': 735, 'closes': 1033, 'editorial': 1533, 'boards': 722, 'intl': 2395, 'notifications': 3135, 'nighttime': 3095, 'industrial': 2353, 'soil': 4127, '41a': 167, 'couple': 1191, 'salem': 3884, 'laura': 2583, 'step': 4232, 'alaska': 382, 'itunes': 2425, 'technical': 4391, 'lawsuit': 2590, 'guilford': 2061, 'thread': 4453, 'shoes': 4036, 'pool': 3453, 'spectacular': 4165, 'oct': 3165, 'henderson': 2147, 'opening': 3214, 'sf': 4007, 'desktop': 1362, 'clay': 1007, 'edmonton': 1534, 'ball': 587, 'ends': 1583, 'thomas': 4444, 'covered': 1196, 'approximately': 474, '04pm': 10, 'nmdot': 3109, 'nj72': 3105, 'academy': 290, 'creating': 1210, 'colorado': 1070, 'helpful': 2144, '86th': 258, 'hay': 2115, 'pulaski': 3571, 'skyway': 4094, 'shift': 4029, 'rainfall': 3614, 'putnam': 3584, 'flagler': 1820, 'providence': 3564, 'florence': 1835, 'exp': 1670, 'grace': 2024, 'gotten': 2017, 'legacy': 2615, 'passenger': 3314, 'tenants': 4407, 'okeechobee': 3194, 'hoback': 2187, 'pupaid2017': 3574, 'jj': 2454, 'stamford': 4205, 'rt15': 3856, 'i87northway': 2289, 'twin': 4611, 'fourth': 1886, 'boutique': 747, 'variety': 4705, 'protection': 3560, 'breath': 772, 'frank': 1892, 'wright': 4952, 'coal': 1051, 'dreamers': 1468, '01p': 3, 'crystal': 1233, 'wyoming': 4964, 'behalf': 648, 'attacks': 528, 'fear': 1753, 'convention': 1155, 'appeal': 463, 'dodge': 1431, 'i84': 2287, 'dont': 1449, 'fc': 1750, 'indiana': 2352, '16am': 55, 'announce': 439, 'containers': 1143, 'goods': 2010, 'handle': 2078, 'highest': 2163, 'bailey': 583, 'hrs': 2241, 'pull': 3572, 'crashes': 1204, 'offer': 3172, 'channel': 932, 'since': 4074, 'responded': 3759, 'nist': 3098, 'scdot': 3911, 'perry': 3354, 'pleasant': 3430, 'alum': 412, 'sr29': 4195, 'satellite': 3897, 'kept': 2508, 'kentucky': 2507, 'asking': 508, 'yours': 4986, 'body': 725, 'patrick': 3325, 'equality': 1613, 'decarie': 1313, 'delivers': 1341, 'luggage': 2737, 'oakland': 3153, 'mcclain': 2818, 'bsf': 803, 'anybody': 452, 'oxford': 3265, 'edition': 1532, 'mueller': 3007, 'paris': 3292, 'amsterdam': 428, 'studies': 4289, 'picking': 3377, 'keeps': 2501, 'highly': 2167, 'thinks': 4440, 'muslims': 3015, '27am': 107, 'blk': 707, 'units': 4641, 'chocolate': 974, 'harbor': 2090, 'selectusasummit': 3962, 'lockheed': 2695, 'quarter': 3592, 'ocean': 3163, 'mortgage': 2974, 'located': 2691, '19th': 71, '55pm': 211, 'bluffs': 719, 'diverted': 1423, 'commerce': 1084, 'syrian': 4350, 'refugee': 3683, 'crisis': 1220, 'colonia': 1067, 'hwy401': 2267, 'lawrence': 2588, 'memories': 2843, 'reform': 3682, 'package': 3270, 'coffee': 1057, 'queensbridge': 3596, 'dan': 1272, 'mm5': 2932, '00pm': 1, 'images': 2316, 'barrier': 602, 'terrible': 4411, 'visits': 4751, 'watt': 4803, 'committee': 1089, 'conroy': 1131, 'frost': 1912, 'missile': 2915, 'mall': 2769, '58th': 221, 'ms': 3001, 'del': 1330, 'transport': 4547, 'camping': 847, 'gear': 1960, '43pm': 174, '95r': 265, 'screen': 3928, 'shorts': 4044, 'crop': 1224, 'agstats': 367, 'dresses': 1471, 'stiles': 4240, 'gadsden': 1940, 'connecting': 1128, 'nv': 3146, 'became': 631, 'barriers': 603, 'affordable': 347, 'covering': 1197, 'us9': 4681, 'stone': 4248, 'commission': 1086, 'yeah': 4970, 'knows': 2539, 'teamkp': 4387, 'december': 1314, 'paid': 3276, 'statistics': 4224, 'planahead': 3410, 'classroom': 1006, 'anytime': 455, 'regular': 3694, 'aircraft': 375, 'ii': 2309, 'sky': 4092, 'extended': 1696, 'montlake': 2960, 'i91': 2293, 'asia': 503, 'guide': 2060, 'killingsworth': 2521, '9b': 270, 'speeds': 4168, 'rutherford': 3869, 'marks': 2795, 'sussex': 4336, 'en': 1578, 'digging': 1389, 'hampshire': 2075, 'arizona': 484, 'residential': 3749, 'marine': 2788, 'louis': 2719, 'laying': 2591, 'contacting': 1141, 'dems': 1349, '7pm': 254, 'greg': 2043, 'refugees': 3684, 'efforts': 1545, 'parts': 3307, 'entering': 1601, 'noon': 3117, 'prior': 3520, 'followed': 1850, 'craft': 1201, 'wondering': 4921, 'believes': 654, 'fit': 1811, 'master': 2805, 'merch': 2851, 'bondurant': 728, 'estimated': 1626, 'mirror': 2911, 'midtown': 2877, 'cumberland': 1244, 'volumes': 4757, 'rocky': 3830, '57pm': 217, 'australian': 541, 'transparency': 4546, 'recap': 3658, 'epic': 1610, 'eta': 1628, 'movingday': 2996, 'treating': 4557, 'minnesota': 2906, 'member': 2840, 'i87nysthruway': 2290, 'palisades': 3279, 'magazine': 2754, 'silence': 4071, '3a': 157, 'um': 4628, 'hospitals': 2221, 'coastline': 1053, 'hits': 2184, 'meridian': 2853, 'i80': 2286, 'winner': 4895, 'tommynow': 4494, 'sweet': 4343, 'kicking': 2515, 'dedicated': 1319, 'carefully': 872, 'library': 2636, 'fellow': 1771, 'professional': 3535, 'firefighters': 1804, 'i5': 2281, '2twp': 124, 'hc': 2119, 'range': 3629, '14am': 46, 'whether': 4856, 'concert': 1108, 'bryant': 802, '20m': 81, 'ingredients': 2362, 'deserve': 1359, 'calebs': 833, 'iphone': 2410, 'outs': 3254, '2s': 123, 'branford': 762, 'switch': 4346, 'espn': 1621, 'explore': 1686, 'built': 812, 'certain': 917, 'genesee': 1965, 'thunder': 4464, 'exit77': 1666, 'firing': 1806, 'policies': 3444, 'collectors': 1063, 'opp': 3220, 'inspiration': 2374, 'burlington': 815, 'anti': 449, 'ranger': 3630, 'jul': 2483, 'hackensack': 2068, 'movie': 2994, 'nostrand': 3128, 'defend': 1324, 'form': 1874, 'linda': 2654, '9am': 269, 'nationwide': 3037, 'myers': 3020, '19am': 69, 'developed': 1373, 'inspire': 2375, '35am': 143, 'rrw': 3854, 'condolences': 1114, 'vulnerable': 4768, 'pre': 3490, 'votes': 4763, 'taxes': 4376, 'lil': 2649, 'forsyth': 1876, 'performs': 3352, 'bypass': 830, 'served': 3989, 'allows': 400, 'ap': 457, '7a': 249, 'sheboygan': 4022, 'jay': 2441, 'grandcentralparkway': 2029, 'savannah': 3899, 'points': 3441, 'within': 4909, 'bal': 585, 'harbour': 2092, 'boston': 737, 'upset': 4660, 'woods': 4924, 'rates': 3634, 'press': 3504, 'review': 3786, 'pilot': 3389, 'continued': 1147, 'sep': 3981, 'caribbean': 874, '145th': 43, 'seriously': 3987, 'stops': 4253, 'thankyounotefriday': 4425, 'katy': 2496, 'workout': 4933, 'motorway': 2985, 'healthier': 2127, 'wheel': 4852, 'cute': 1253, 'studio': 4290, 'connection': 1129, 'mound': 2986, 'wwjtraffic': 4959, 'holds': 2194, '49th': 189, 'celebration': 906, 'wash': 4793, 'humans': 2250, 'matthew': 2813, 'testing': 4415, 'virginiatech': 4744, 'recall': 3657, 'approach': 469, 'billing': 683, 'population': 3457, 'champion': 924, 'mess': 2855, 'responsibility': 3763, 'option': 3224, 'battery': 615, 'brilliant': 782, 'willing': 4879, 'confidence': 1118, 'decades': 1312, 'hell': 2140, 'offering': 3173, '18pm': 67, 'uspto': 4690, 'organic': 3234, 'registered': 3691, '55th': 212, 'dig': 1388, 'y98': 4966, 'stl': 4244, '72a': 245, 'forbes': 1860, 'patient': 3324, 'treated': 4556, '69c': 235, 'carson': 880, 'boynton': 754, 'rapid': 3631, 'lowest': 2731, 'passengers': 3315, 'greenleaf': 2039, 'topics': 4505, 'woke': 4914, 'alarm': 381, 'approx': 473, 'weber': 4818, 'rapids': 3632, 'frontage': 1911, 'donations': 1447, 'rochester': 3825, '103rd': 21, 'listings': 2669, 'played': 3423, 'hillary': 2174, 'republicans': 3738, 'unity': 4642, 'upgrade': 4655, 'tragedy': 4535, 'sarah': 3894, 'focused': 1846, 'stuart': 4285, 'antifa': 450, 'caught': 891, 'shoot': 4037, 'launches': 2582, 'strategic': 4264, 'cooperation': 1163, 'defense': 1325, 'administration': 325, 'impression': 2325, 'te': 4380, 'unless': 4647, 'deliver': 1338, 'wecarrytheworld': 4822, 'inspiring': 2377, 'input': 2371, 'senator': 3971, 'remarks': 3708, 'balance': 586, 'contraflow': 1152, 'choctaw': 975, 'honey': 2210, 'thornton': 4447, 'agencies': 357, 'ford': 1864, 'clttraffic': 1041, 'communipaw': 1091, 'electricity': 1553, 'mercedes': 2849, 'weekly': 4828, 'morris': 2972, 'requirement': 3740, 'vermont': 4716, 'wilmington': 4882, 'bennington': 666, 'dollars': 1438, 'regards': 3687, 'though': 4449, '5am': 226, 'african': 350, 'arts': 499, 'likes': 2648, 'generations': 1964, 'shape': 4014, 'turns': 4604, 'retweet': 3782, 'qew': 3589, 'advised': 337, '05am': 11, 'jewelry': 2450, 'glass': 1991, 'nightly': 3093, 'russian': 3868, 'nj495': 3104, 'mistake': 2919, 'file': 1786, 'breakingnews': 770, 'ground': 2046, 'basketball': 613, 'eu': 1630, 'manchester': 2776, 'ryan': 3872, 'delicious': 1337, 'feels': 1768, 'papers': 3286, 'credit': 1213, 'ten': 4406, 'warm': 4787, 'jordan': 2473, '23pm': 93, 'i287': 2273, 'background': 575, 'install': 2379, 'dollar': 1437, 'safely': 3876, 'removing': 3715, 'draft': 1463, 'lightning': 2643, 'imagery': 2315, 'profile': 3537, 'gotta': 2016, 'engineers': 1592, 'vegan': 4709, 'hitting': 2185, 'losing': 2712, 'scores': 3925, 'hasn': 2108, 'fyi': 1937, 'plains': 3407, 'nituniyo': 3099, 'trenton': 4564, 'providing': 3566, 'brickell': 776, 'mason': 2802, 'williams': 4877, 'playlist': 3427, 'nj17': 3101, 'promise': 3544, 'correct': 1172, 'con': 1105, 'careful': 871, 'utica': 4695, 'jeff': 2446, 'lo': 2685, 'manufacturers': 2778, '56pm': 214, 'giveaway': 1985, 'glades': 1990, 'researchers': 3745, 'mama': 2770, 'directly': 1398, 'sitting': 4085, 'operation': 3218, 'yrs': 4991, 'plays': 3428, 'detours': 1369, 'cotton': 1179, 'jacket': 2430, 'lmao': 2682, 'deposit': 1353, 'neshaminy': 3066, 'tourism': 4514, 'holiday': 2196, 'wilshire': 4883, 'claims': 1000, 'violent': 4741, 'rescue': 3742, 'pets': 3364, 'senators': 3972, 'dalton': 1266, 'threatening': 4455, 'position': 3464, 'phxtraffic': 3372, 'jump': 2485, 'tools': 4503, 'lift': 2640, 'flavors': 1823, 'remind': 3710, 'comfort': 1080, '108th': 22, 'harrison': 2101, 'ogden': 3184, '130b': 38, 'species': 4163, 'troubleshooting': 4572, 'austin': 539, 'develop': 1372, 'mine': 2901, 'birds': 688, 'breakfast': 768, 'helicopter': 2139, 'joint': 2469, 'hernando': 2155, 'yycroads': 4992, 'bangerter': 591, 'gov': 2018, 'bolton': 726, 'elder': 1550, 'g20': 1938, 'impacted': 2320, 'saint': 3882, 'rio': 3803, 'handy': 2080, 'adding': 319, 'plants': 3417, 'blame': 699, 'committed': 1088, 'discrimination': 1407, 'metal': 2860, 'nek': 3065, 'newburgh': 3072, 'tues': 4592, 'np': 3140, 'quickly': 3601, 'dive': 1420, 'taste': 4373, 'lose': 2711, 'moore': 2966, 'dear': 1306, 'trash': 4550, 'semoran': 3969, '13am': 40, 'sleeping': 4098, 'orlandotraffic': 3238, 'tryon': 4585, 'seven': 3999, 'windsor': 4891, 'tulsa': 4594, 'enfield': 1585, 'holy': 2202, 'bills': 685, 'urban': 4662, '8a': 259, 'wimbledon': 4885, 'category': 890, '05pm': 12, 'tough': 4512, 'basic': 610, 'regret': 3693, 'dump': 1492, 'chesterfield': 961, 'superstar': 4317, 'hunt': 2254, 'jonesboro': 2472, 'mm44': 2930, 'cook': 1158, 'display': 1417, 'talent': 4364, 'bothways': 740, 'experiences': 1678, 'california': 836, 'roll': 3835, '2pm': 122, 'us130': 4667, 'dancing': 1275, 'spg': 4172, 'cereal': 915, 'denim': 1350, 'golden': 2005, 'jean': 2444, 'outbound': 3251, 'cookies': 1159, 'tucson': 4590, 'heartnews': 2133, 'homeowners': 2205, 'avg': 557, 'avs': 560, 'staying': 4229, 'brian': 775, 'signing': 4069, 'neighbors': 3064, '59pm': 223, 'automated': 547, 'willow': 4881, 'finished': 1801, 'plastic': 3418, 'factory': 1709, 'walton': 4781, '31pm': 130, 'answers': 446, 'below': 658, '01am': 2, 'shots': 4047, 'wrote': 4956, 'kilpatrick': 2522, 'ottawa': 3244, 'pines': 3393, 'wr': 4949, 'knox': 2540, 'bend': 662, 'woodward': 4925, 'sides': 4061, 'cleaning': 1010, 'weallcan': 4813, 'newyork': 3080, 'firstnet': 1809, 'avalon': 553, 'southside': 4155, 'marriage': 2797, 'german': 1971, 'standards': 4208, 'ourselves': 3247, 'spanish': 4158, 'moms': 2947, 'surprised': 4330, 'seneca': 3976, 'reduction': 3677, 'modification': 2941, 'diseases': 1414, 'plz': 3437, 'filled': 1788, 'aeo': 340, 'posts': 3471, 'farming': 1733, 'finding': 1797, 'produce': 3529, 'holly': 2198, 'heritage': 2154, '47pm': 183, 'followers': 1851, 'supported': 4321, 'denver': 1351, 'creation': 1211, 'writing': 4954, 'delivery': 1342, 'rep': 3720, 'conway': 1157, 'lessons': 2623, '31st': 131, 'resume': 3775, 'pelham': 3340, 'lft': 2633, 'deerfoot': 1323, 'vintage': 4739, 'delete': 1336, 'holt': 2201, 'visiting': 4750, 'mis': 2912, 'henry': 2150, 'laws': 2589, 'trumbull': 4579, 'walt': 4780, 'whitman': 4860, '42am': 170, 'reaction': 3646, 'searching': 3936, 'buying': 827, 'rains': 3616, 'canyon': 858, 'dnt': 1429, 'ship': 4030, 'search': 3935, 'gps': 2022, 'window': 4888, 'bees': 642, 'squad': 4192, '53pm': 206, 'wh': 4847, 'unable': 4630, 'selected': 3960, 'bellevue': 655, 'ae': 339, 'tommy': 4493, 'puppy': 3575, '06pm': 14, 'mtg': 3003, 'discussed': 1409, 'complex': 1103, 'pray': 3487, 'earthday': 1510, 'parisagreement': 3293, '5mi': 229, 'turning': 4602, 'educate': 1536, 'affects': 346, 'mil': 2882, 'forge': 1871, 'fastest': 1740, 'language': 2567, '82nd': 256, 'delivering': 1340, 'volunteers': 4758, 'acid': 301, '8pm': 262, 'wearing': 4815, 'routine': 3850, 'stripes': 4277, 'tired': 4481, 'lady': 2554, 'bless': 702, 'impressive': 2326, 'hiv': 2186, 'meal': 2824, 'nationalnutritionmonth': 3034, 'gorgeous': 2014, 'pete': 3359, 'jack': 2429, 'knifed': 2533, 'greenwich': 2040, 'strip': 4276, 'image': 2314, 'environment': 1607, 'crucial': 1229, 'otd': 3241, 'pl': 3403, 'sinkhole': 4079, 'funded': 1930, '16b': 56, 'nj47': 3103, 'tyler': 4617, 'wy789': 4962, 'bryan': 801, 'task': 4372, 'hopefully': 2215, 'tracks': 4527, 'notch': 3130, 'stolen': 4247, '54am': 208, 'peterson': 3362, 'floating': 1829, 'chestnut': 962, 'custom': 1249, 'ems': 1577, 'struggle': 4283, 'sutphin': 4339, 'dish': 1415, 'movingtip': 2997, 'shared': 4016, 'par': 3287, 'smile': 4110, 'achieve': 300, 'sdgs': 3931, 'elysian': 1566, '29th': 115, 'funds': 1932, 'sharon': 4019, 'tashab': 4371, 'royal': 3852, 'worldtrademonth': 4940, 'gordon': 2013, '328b': 133, '328a': 132, 'engine': 1589, 'fredericksburg': 1895, 'cnn': 1045, '31am': 129, 'lasting': 2572, 'uk': 4625, 'complaint': 1099, '28pm': 111, 'redwood': 3678, 'vibes': 4724, 'shouldn': 4050, 'mars': 2798, 'ladies': 2553, 'lgbt': 2634, 'venture': 4714, 'elevator': 1555, 'servicing': 3993, 'ugh': 4621, 'louisa': 2720, 'madeinamerica': 2751, 'fullerton': 1924, 'pie': 3383, 'curious': 1246, 'keys': 2510, 'spotlight': 4182, 'borough': 736, 'careerarc': 869, 'grains': 2027, 'pinellas': 3392, 'rather': 3635, 'promo': 3545, 'shocked': 4035, 'plainville': 3408, 'diesel': 1384, 'smh': 4109, '7n': 253, 'limits': 2652, 'revolution': 3788, 'hw': 2264, 'monument': 2964, 'profit': 3538, 'politics': 3448, 'extremely': 1700, 'excellent': 1652, 'christian': 983, 'passable': 3312, 'expansion': 1672, '5pm': 230, 'purple': 3577, 'label': 2549, 'floods': 1833, 'dolphin': 1439, '17th': 63, 'shown': 4056, 'sing': 4075, 'latraffic': 2577, 'racist': 3607, 'witness': 4911, 'keeping': 2500, 'ones': 3203, 'cuts': 1254, 'taconicstateparkway': 4357, 'conversation': 1156, 'sixth': 4088, 'count': 1183, 'fascinating': 1736, 'wisconsin': 4904, 'lions': 2661, 'finance': 1794, 'material': 2807, 'nationals': 3035, 'rescued': 3743, 'professor': 3536, 'nights': 3094, 'tracking': 4526, 'pattullo': 3327, 'drunk': 1486, 'restricted': 3770, 'depot': 1354, 'officially': 3180, 'exits': 1669, 'proceed': 3527, 'mm48': 2931, 'obsessed': 3159, 'phase': 3365, 'dies': 1383, 'linn': 2660, 'dunn': 1494, 'seeking': 3953, '25a': 100, 'proposed': 3554, 'rough': 3845, 'nicholas': 3088, 'insights': 2373, 'copy': 1166, 'roundabout': 3847, 'wild': 4871, 'belongings': 657, 'reportedly': 3730, 'hy': 2268, 'pink': 3394, 'middlesex': 2874, 'contiguous': 1145, 'realize': 3653, 'clackamas': 997, 'native': 3038, 'roadworks': 3818, 'resurfacing': 3777, 'harpnow': 2098, 'smugglers': 4115, 'mm0': 2926, 'carroll': 877, 'captured': 862, 'bro': 786, 'ni': 3086, 'passes': 3316, 'atlanticcityexpressway': 525, 'negative': 3062, 'myanmar': 3019, 'tobacco': 4486, 'bumper': 813, 'tsincident': 4586, 'clr': 1038, 'richardson': 3793, 'ties': 4471, 'powers': 3481, 'ko': 2541, 'caroline': 876, 'adventure': 333, 'shady': 4012, 'bb': 621, 'marathon': 2785, 'i280': 2272, 'ty': 4616, '6mi': 241, 'terrorists': 4412, '9p': 273, 'petition': 3363, 'globalgoals': 1995, '48th': 186, 'sport': 4179, 'eagle': 1504, 'delivered': 1339, 'advertising': 334, 'enforcement': 1586, 'pr': 3483, 'pickup': 3379, 'cruise': 1230, '5b': 227, 'statewide': 4221, '2x': 125, 'newjerseyturnpikehudsoncountyextension': 3075, 'liberty': 2635, 'glenwood': 1992, 'educational': 1538, 'instructions': 2382, 'transfer': 4542, 'rohingya': 3832, 'stewart': 4237, 'standard': 4207, 'springfield': 4189, 'artificial': 497, 'babies': 571, 'loss': 2713, 'abroads': 283, 'hidden': 2160, 'pottawatomie': 3473, 'rage': 3610, 'uss': 4691, 'midway': 2878, 'murder': 3010, 'fruitville': 1915, 'bee': 638, 'harlee': 2095, 'hair': 2070, 'log': 2697, 'i787': 2285, 'smoothly': 4114, 'ran': 3625, 'tops': 4506, 'associates': 517, 'flexibility': 1825, 'bannon': 596, 'values': 4702, 'whereareunow': 4855, 'muslim': 3014, 'chester': 960, 'bernard': 669, 'channels': 933, 'deeply': 1321, '1m': 75, 'us19truckroute': 4674, 'stream': 4267, 'capacity': 859, 'arms': 486, 'athlete': 520, 'rocks': 3829, 'stronger': 4280, 'shipped': 4031, 'banks': 595, 'tea': 4381, 'choosing': 981, 'revenue': 3785, 'engineering': 1591, 'magic': 2755, 'safemove': 3877, 'innovative': 2370, 'economies': 1527, 'thankful': 4423, 'poll': 3450, '101a': 20, 'semester': 3966, 'performing': 3351, 'uppervalley': 4658, 'acct': 299, 'tuckers': 4589, 'brands': 761, 'govt': 2021, 'grows': 2053, 'galaxy': 1942, 'note8': 3132, '10b': 25, 'lindbergh': 2655, 'mad': 2749, 'target': 4370, 'drug': 1485, 'felt': 1772, 'hilfigerdenim': 2172, 'scenic': 3914, 'slightly': 4100, '33pm': 136, 'fed': 1761, 'sites': 4084, 'kit': 2528, 'iraq': 2411, 'forces': 1863, 'suspicious': 4335, 'explanation': 1685, 'waushara': 4805, 'lovell': 2724, 'sexy': 4006, 'ridgewood': 3797, 'threats': 4456, 'pants': 3284, 'trading': 4530, 'exact': 1648, 'organization': 3235, 'teaching': 4385, 'pittsburgh': 3398, 'speaks': 4161, 'participate': 3303, 'beacon': 625, 'turkey': 4598, 'resolved': 3754, 'sort': 4145, 'feeding': 1765, 'strange': 4263, 'quite': 3603, 'given': 1986, 'roles': 3834, '346b': 139, 'prime': 3516, 'showcase': 4053, 'farmington': 1734, 'repeat': 3724, 'baltimore': 588, 'inwood': 2408, 'lies': 2638, 'sir': 4081, 'butte': 825, 'hilarious': 2171, 'author': 543, 'disney': 1416, 'riverton': 3810, 'automatically': 548, 'segment': 3958, 'taught': 4374, '6a': 237, 'stirling': 4243, 'fowler': 1887, 'meant': 2828, 'except': 1653, 'newly': 3076, 'picked': 3376, 'charge': 938, 'bat': 614, 'wtc': 4957, 'fbi': 1749, 'grew': 2044, 'jun': 2486, 'software': 4126, '52nd': 203, 'loose': 2708, 'somebody': 4136, 'urge': 4663, 'mayor': 2816, 'creative': 1212, 'us14a': 4669, 'tire': 4480, 'cherry': 958, 'convenient': 1154, 'hwy400': 2266, 'knight': 2534, 'charts': 945, 'mindfulness': 2900, '15am': 49, '15w': 52, 'sticks': 4239, 'rutland': 3870, 'cswy': 1235, 'abt': 286, 'portions': 3461, 'appearance': 464, 'drawbridge': 1466, 'association': 518, 'northwest': 3126, 'i690': 2283, 'relax': 3699, 'expertise': 1681, 'cheyenne': 963, 'wesley': 4838, 'basics': 611, 'ncco': 3049, 'lebanon': 2610, 'acres': 302, 'truckshare': 4576, 'famous': 1725, 'returns': 3781, 'remaining': 3705, 'forests': 1868, 'claire': 1001, 'temp': 4403, 'alex': 388, 'windows': 4889, 'shame': 4013, 'auburn': 533, 'tommyxgigi': 4495, 'operate': 3216, 'apartment': 458, 'bigger': 678, 'legend': 2617, 'releases': 3702, 'tdih': 4379, 'mainlane': 2758, 'chicagotraffic': 965, 'fe': 1752, 'percent': 3346, 'metgala': 2861, 'reveals': 3784, 'worry': 4942, 'unicef': 4636, 'majority': 2763, 'technician': 4392, 'laurent': 2586, 'homie': 2208, 'refer': 3679, 'cooper': 1162, 'voter': 4762, 'birth': 690, 'pet': 3358, 'ads': 327, 'visible': 4746, 'worldwide': 4941, 'scholarship': 3919, 'severn': 4002, 'eglinton': 1547, 'exhibition': 1660, 'resumed': 3776, 'olympic': 3198, 'remarkable': 3707, 'thonotosassa': 4446, 'password': 3318, 'robertson': 3823, 'bars': 605, 'tests': 4416, 'reset': 3748, 'laughing': 2579, 'italy': 2421, 'packed': 3272, 'nearest': 3054, 'edge': 1530, 'aviation': 558, 'civilians': 994, 'birmingham': 689, 'davie': 1290, 'improvement': 2328, 'sidewalk': 4062, 'harvard': 2104, 'mol': 2943, 'milton': 2895, 'seoul': 3980, 'tied': 4470}\n"
     ]
    }
   ],
   "source": [
    "# to see the vocabulary that it has learned from the corpus\n",
    "print(Tfidf_vect.vocabulary_)"
   ]
  },
  {
   "cell_type": "markdown",
   "metadata": {
    "colab_type": "text",
    "id": "Wb52uL9ERKKi"
   },
   "source": [
    "STEP -5: Use the ML Algorithms to Predict the outcome \n",
    "\n",
    "\n"
   ]
  },
  {
   "cell_type": "code",
   "execution_count": 8,
   "metadata": {
    "colab": {
     "base_uri": "https://localhost:8080/",
     "height": 34
    },
    "colab_type": "code",
    "id": "C4UZXQcQIPY6",
    "outputId": "477fb0fd-dcb5-47ce-e25b-6b72ec8d2255"
   },
   "outputs": [],
   "source": [
    "# fit the training dataset on the Naive Bayes classifier\n",
    "Naive = naive_bayes.MultinomialNB()\n",
    "Naive.fit(Train_X_Tfidf,train_y)\n",
    "# predict the labels on validation dataset\n",
    "ypred_NB = Naive.predict(Test_X_Tfidf)\n"
   ]
  },
  {
   "cell_type": "markdown",
   "metadata": {
    "colab_type": "text",
    "id": "ySbbsvVHWVzE"
   },
   "source": [
    "STEP 6 : Check model performance\n",
    "\n",
    "Learn about different classification metrics (precision, recall, f1-score, accuracy) here - https://medium.com/@MohammedS/performance-metrics-for-classification-problems-in-machine-learning-part-i-b085d432082b#:~:text=We%20can%20use%20classification%20performance,primarily%20used%20by%20search%20engines."
   ]
  },
  {
   "cell_type": "code",
   "execution_count": 9,
   "metadata": {
    "colab": {
     "base_uri": "https://localhost:8080/",
     "height": 204
    },
    "colab_type": "code",
    "id": "NcuLudhNW1Di",
    "outputId": "ade371a8-8671-4a7f-92b5-cbbfc85cbd0a",
    "scrolled": true
   },
   "outputs": [
    {
     "name": "stdout",
     "output_type": "stream",
     "text": [
      "Naive Bayes Accuracy Score ->  97.28010957831916\n",
      "Naive Bayes Performance -> \n",
      "               precision    recall  f1-score   support\n",
      "\n",
      "           0       0.97      0.97      0.97      5110\n",
      "           1       0.97      0.97      0.97      5111\n",
      "\n",
      "    accuracy                           0.97     10221\n",
      "   macro avg       0.97      0.97      0.97     10221\n",
      "weighted avg       0.97      0.97      0.97     10221\n",
      "\n"
     ]
    }
   ],
   "source": [
    "from sklearn.metrics import classification_report\n",
    "# Use accuracy_score function to get the accuracy\n",
    "print(\"Naive Bayes Accuracy Score -> \",accuracy_score(ypred_NB, test_y)*100)\n",
    "print(\"Naive Bayes Performance -> \\n\",classification_report(test_y, ypred_NB))"
   ]
  },
  {
   "cell_type": "code",
   "execution_count": 10,
   "metadata": {},
   "outputs": [
    {
     "name": "stdout",
     "output_type": "stream",
     "text": [
      "[[4973  137]\n",
      " [ 141 4970]]\n"
     ]
    }
   ],
   "source": [
    "#confusion matrix for  naive bayes\n",
    "from sklearn.metrics import confusion_matrix\n",
    "\n",
    "print(confusion_matrix(test_y, ypred_NB)) "
   ]
  },
  {
   "cell_type": "markdown",
   "metadata": {
    "colab_type": "text",
    "id": "l--oUkJERYQj"
   },
   "source": [
    "As a next step you can try the following:\n",
    "\n",
    "Play around with the Data pre-processing steps and see how it effects the accuracy.\n",
    "\n",
    "Try other Word Vectorization techniques such as Count Vectorizer and Word2Vec.\n",
    "\n",
    "Try Parameter tuning with the help of GridSearchCV on these Algorithms.\n",
    "\n",
    "Try other classification Algorithms Like Linear Classifier, Boosting Models and even Neural Networks."
   ]
  },
  {
   "cell_type": "code",
   "execution_count": 11,
   "metadata": {},
   "outputs": [],
   "source": [
    "# Classifier - Algorithm - SVM\n",
    "from sklearn.svm import SVC\n",
    "svclassifier=SVC(kernel='linear')\n",
    "svclassifier.fit(Train_X_Tfidf,train_y)\n",
    "# predict the labels on validation dataset\n",
    "predictions_SVM = svclassifier.predict(Test_X_Tfidf)"
   ]
  },
  {
   "cell_type": "code",
   "execution_count": 12,
   "metadata": {},
   "outputs": [
    {
     "name": "stdout",
     "output_type": "stream",
     "text": [
      "SVM Accuracy Score ->  98.25848742784463\n",
      "SVM Performance -> \n",
      "               precision    recall  f1-score   support\n",
      "\n",
      "           0       0.98      0.98      0.98      5110\n",
      "           1       0.98      0.98      0.98      5111\n",
      "\n",
      "    accuracy                           0.98     10221\n",
      "   macro avg       0.98      0.98      0.98     10221\n",
      "weighted avg       0.98      0.98      0.98     10221\n",
      "\n"
     ]
    }
   ],
   "source": [
    "from sklearn.metrics import classification_report\n",
    "# Use accuracy_score function to get the accuracy\n",
    "print(\"SVM Accuracy Score -> \",accuracy_score(predictions_SVM, test_y)*100)\n",
    "print(\"SVM Performance -> \\n\",classification_report(test_y,predictions_SVM ))\n"
   ]
  },
  {
   "cell_type": "code",
   "execution_count": 13,
   "metadata": {},
   "outputs": [
    {
     "name": "stdout",
     "output_type": "stream",
     "text": [
      "[[5021   89]\n",
      " [  89 5022]]\n"
     ]
    }
   ],
   "source": [
    "#confusion matrix for  SVC\n",
    "from sklearn.metrics import confusion_matrix\n",
    "\n",
    "print(confusion_matrix(test_y, predictions_SVM)) "
   ]
  },
  {
   "cell_type": "code",
   "execution_count": 14,
   "metadata": {},
   "outputs": [],
   "source": [
    "#logistic regression classifier\n",
    "from sklearn.linear_model import LogisticRegression\n",
    "import warnings\n",
    "warnings.filterwarnings('ignore')\n",
    "\n",
    "logreg = LogisticRegression()\n",
    "logreg.fit(Train_X_Tfidf, train_y)\n",
    "\n",
    "# predict the labels on validation dataset\n",
    "y_pred=logreg.predict(Test_X_Tfidf)\n"
   ]
  },
  {
   "cell_type": "code",
   "execution_count": 15,
   "metadata": {},
   "outputs": [
    {
     "name": "stdout",
     "output_type": "stream",
     "text": [
      "LogisticRegression Accuracy Score ->  98.14108208590157\n",
      "LogisticRegression Performance -> \n",
      "               precision    recall  f1-score   support\n",
      "\n",
      "           0       0.98      0.99      0.98      5110\n",
      "           1       0.99      0.98      0.98      5111\n",
      "\n",
      "    accuracy                           0.98     10221\n",
      "   macro avg       0.98      0.98      0.98     10221\n",
      "weighted avg       0.98      0.98      0.98     10221\n",
      "\n"
     ]
    }
   ],
   "source": [
    "from sklearn.metrics import classification_report\n",
    "print(\"LogisticRegression Accuracy Score -> \",accuracy_score(y_pred, test_y)*100)\n",
    "print(\"LogisticRegression Performance -> \\n\",classification_report(test_y,y_pred))\n"
   ]
  },
  {
   "cell_type": "code",
   "execution_count": 16,
   "metadata": {},
   "outputs": [
    {
     "name": "stdout",
     "output_type": "stream",
     "text": [
      "[[5021   89]\n",
      " [  89 5022]]\n"
     ]
    }
   ],
   "source": [
    "#confusion matrix for  Logistic regression\n",
    "from sklearn.metrics import confusion_matrix\n",
    "\n",
    "print(confusion_matrix(test_y, predictions_SVM)) "
   ]
  },
  {
   "cell_type": "code",
   "execution_count": 17,
   "metadata": {},
   "outputs": [
    {
     "name": "stdout",
     "output_type": "stream",
     "text": [
      "KNN Accuracy Score ->  96.46805596321299\n",
      "KNN Performance -> \n",
      "               precision    recall  f1-score   support\n",
      "\n",
      "           0       0.95      0.98      0.97      5110\n",
      "           1       0.98      0.95      0.96      5111\n",
      "\n",
      "    accuracy                           0.96     10221\n",
      "   macro avg       0.97      0.96      0.96     10221\n",
      "weighted avg       0.97      0.96      0.96     10221\n",
      "\n"
     ]
    }
   ],
   "source": [
    "#KNN classifier\n",
    "from sklearn.neighbors import KNeighborsClassifier\n",
    "classifier = KNeighborsClassifier(n_neighbors=5)\n",
    "classifier.fit(Train_X_Tfidf, train_y)\n",
    "\n",
    "# predict the labels on validation dataset\n",
    "y_predic = classifier.predict(Test_X_Tfidf)\n",
    "print(\"KNN Accuracy Score -> \",metrics.accuracy_score(test_y, y_predic)*100)\n",
    "print(\"KNN Performance -> \\n\",classification_report(test_y,y_predic))\n"
   ]
  },
  {
   "cell_type": "code",
   "execution_count": 32,
   "metadata": {},
   "outputs": [
    {
     "name": "stdout",
     "output_type": "stream",
     "text": [
      "[[5021   89]\n",
      " [  89 5022]]\n"
     ]
    }
   ],
   "source": [
    "#confusion matrix for  KNN classifier\n",
    "from sklearn.metrics import confusion_matrix\n",
    "\n",
    "print(confusion_matrix(test_y, predictions_SVM)) "
   ]
  },
  {
   "cell_type": "code",
   "execution_count": null,
   "metadata": {},
   "outputs": [],
   "source": []
  }
 ],
 "metadata": {
  "colab": {
   "name": "TextClassification.ipynb",
   "provenance": []
  },
  "kernelspec": {
   "display_name": "Python 3",
   "language": "python",
   "name": "python3"
  },
  "language_info": {
   "codemirror_mode": {
    "name": "ipython",
    "version": 3
   },
   "file_extension": ".py",
   "mimetype": "text/x-python",
   "name": "python",
   "nbconvert_exporter": "python",
   "pygments_lexer": "ipython3",
   "version": "3.7.3"
  }
 },
 "nbformat": 4,
 "nbformat_minor": 1
}
